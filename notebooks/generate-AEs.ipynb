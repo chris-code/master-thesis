{
 "cells": [
  {
   "cell_type": "markdown",
   "metadata": {},
   "source": [
    "# Generating adversarial examples (AEs)\n",
    "\n",
    "This file generates adversarial examples on a dataset with the imagenet network provided by caffe. The data is expected to reside in *data_root*, with the following structure:\n",
    "- The images of each class reside in their own folder, named according to the imagenet label (e.g. 'n02112018')\n",
    "- There are no other folders or files in *data_root*\n",
    "- There are no other folders or files in *data_root*'s class-specific subfolders\n",
    "\n",
    "For each class, a random representative will be selected. Adversarial examples pretending to belong to each class will be generated for it. The program tries to achive *CONFIDENCE_TARGET* certainty of the network, but will not spend longer than *MAX_ITERATIONS* on generating one AE. The number of considered classes can be restricted with *CLASS_LIMIT* (*None* means cross-generate AEs for all classes)\n",
    "\n",
    "The output is saved to *OUTPUT_ROOT*, with the following structure:\n",
    "- For each class, there is a directory with the class name\n",
    "- The directory contains the AEs as .npy files, with the adversarial class as the filename\n",
    "- There is a history.csv file in each directory that records the final confidence and the required iterations for each AE.\n",
    "- The history.csv file has the format (class_representative_filename, adversarial_class_name, confidence, iterations)\n",
    "\n",
    "We start with imports and by setting paths and constants."
   ]
  },
  {
   "cell_type": "code",
   "execution_count": 1,
   "metadata": {
    "collapsed": false
   },
   "outputs": [],
   "source": [
    "import random\n",
    "import sys\n",
    "import os\n",
    "import csv\n",
    "import numpy as np\n",
    "import caffe\n",
    "import adex\n",
    "import adex.core\n",
    "import adex.googlenet\n",
    "\n",
    "CAFFE_ROOT = '/home/chrisbot/Projects/caffe'\n",
    "DATA_ROOT = '/media/sf_Masterarbeit/data/ILSVRC2012_img_train_panda'\n",
    "OUTPUT_ROOT = '/media/sf_Masterarbeit/data/ILSVRC2012_img_train_panda_AE'\n",
    "BATCH_SIZE = 1\n",
    "\n",
    "AE_GRAD_COEFF = 0.9\n",
    "CONFIDENCE_TARGET = 0.9\n",
    "MAX_ITERATIONS = 10\n",
    "CLASS_LIMIT = 5"
   ]
  },
  {
   "cell_type": "markdown",
   "metadata": {},
   "source": [
    "Next, we load the network, the labels and a transformer for i/o."
   ]
  },
  {
   "cell_type": "code",
   "execution_count": 2,
   "metadata": {
    "collapsed": false
   },
   "outputs": [],
   "source": [
    "net = adex.googlenet.load_model(CAFFE_ROOT, BATCH_SIZE)\n",
    "labels = adex.googlenet.load_labels(CAFFE_ROOT)\n",
    "transformer = adex.googlenet.build_transformer(net)"
   ]
  },
  {
   "cell_type": "markdown",
   "metadata": {},
   "source": [
    "Lastly, it is handy to have a function that turns the representative of one class into an AE of another class, adhering to the defined file structure."
   ]
  },
  {
   "cell_type": "code",
   "execution_count": 3,
   "metadata": {
    "collapsed": false
   },
   "outputs": [],
   "source": [
    "def make_ae_for_paths(infile, outfile, net, labels, target_class_name,\n",
    "                                   AE_GRAD_COEFF, CONFIDENCE_TARGET, MAX_ITERATIONS):\n",
    "    # Load class representative\n",
    "    image = caffe.io.load_image(infile)\n",
    "    image = transformer.preprocess('data', image)\n",
    "    image = np.expand_dims(image, 0)\n",
    "    \n",
    "    target_label = adex.googlenet.get_label_from_class_name(labels, target_class_name)\n",
    "    target_label = np.array([target_label]) # Caffe-friendly format for labels\n",
    "    \n",
    "    adversarial_image, confidence, iterations = adex.core.make_adversarial(net, image, target_label, AE_GRAD_COEFF,\n",
    "                                                                               CONFIDENCE_TARGET, MAX_ITERATIONS)\n",
    "    np.save(outfile, adversarial_image)\n",
    "    return confidence, iterations"
   ]
  },
  {
   "cell_type": "markdown",
   "metadata": {},
   "source": [
    "Finally, we generate AEs."
   ]
  },
  {
   "cell_type": "code",
   "execution_count": 4,
   "metadata": {
    "collapsed": false
   },
   "outputs": [
    {
     "name": "stdout",
     "output_type": "stream",
     "text": [
      "\\Generating AEs for class (0/2): n01616318 \n",
      "..\\Generating AEs for class (1/2): n02510455 \n",
      ".."
     ]
    }
   ],
   "source": [
    "class_directories = os.listdir(DATA_ROOT) # The list of classes (conincide with their directory names)\n",
    "random.shuffle(class_directories)\n",
    "if CLASS_LIMIT is not None: # Make sure we only consider CLASS_LIMIT many classes\n",
    "    class_directories = class_directories[:CLASS_LIMIT]\n",
    "\n",
    "for directory_index, class_directory in enumerate(class_directories): # Iterate over all classes / their directories\n",
    "    print('\\nGenerating AEs for class ({0}/{1}): {2} '.format(directory_index + 1, len(class_directories), class_directory))\n",
    "    \n",
    "    random_class_representative = random.choice(os.listdir(DATA_ROOT + '/' + class_directory))\n",
    "    \n",
    "    # Prepare output directory\n",
    "    try:\n",
    "        os.mkdir(OUTPUT_ROOT + '/' + random_class_representative[:-5])\n",
    "    except OSError:\n",
    "        pass # Directory already exists\n",
    "    \n",
    "    history = [] # Keeps track of confidence and iterations\n",
    "    for target_class_name in class_directories: # Iterate over all classes again\n",
    "        sys.stdout.write('.')\n",
    "        sys.stdout.flush()\n",
    "        \n",
    "        #Generate AEs\n",
    "        infile = DATA_ROOT + '/' + class_directory + '/' + random_class_representative\n",
    "        outfile = OUTPUT_ROOT + '/' + random_class_representative[:-5] + '/' + target_class_name + '.npy'\n",
    "        confidence, iterations = make_ae_for_paths(infile, outfile, net, labels, target_class_name,\n",
    "                                                   AE_GRAD_COEFF, CONFIDENCE_TARGET, MAX_ITERATIONS)\n",
    "        \n",
    "        # Add data to history\n",
    "        history.append( [random_class_representative, target_class_name, confidence, iterations] )\n",
    "    \n",
    "    # Write history to file\n",
    "    with open(OUTPUT_ROOT + '/' + class_directory + '_' + 'history.csv', 'wb') as csvfile:\n",
    "        writer = csv.writer(csvfile)\n",
    "        for target_class_history in history:\n",
    "            writer.writerow(target_class_history)"
   ]
  }
 ],
 "metadata": {
  "kernelspec": {
   "display_name": "Python 2",
   "language": "python",
   "name": "python2"
  },
  "language_info": {
   "codemirror_mode": {
    "name": "ipython",
    "version": 2
   },
   "file_extension": ".py",
   "mimetype": "text/x-python",
   "name": "python",
   "nbconvert_exporter": "python",
   "pygments_lexer": "ipython2",
   "version": "2.7.12"
  }
 },
 "nbformat": 4,
 "nbformat_minor": 0
}
