{
 "cells": [
  {
   "cell_type": "markdown",
   "metadata": {},
   "source": [
    "# Generating adversarial examples (AEs)\n",
    "\n",
    "This file generates adversarial examples on a dataset with the imagenet network provided by caffe. The data is expected to reside in *data_root*, with the following structure:\n",
    "- The images of each class reside in their own folder, named according to the imagenet label (e.g. 'n02112018')\n",
    "- There are no other folders or files in *data_root*\n",
    "- There are no other folders or files in *data_root*'s class-specific subfolders\n",
    "\n",
    "For each class, a random representative will be selected. Adversarial examples pretending to belong to each class will be generated for it. The program tries to make the network believe the image to belong to this class with *CONFIDENCE_TARGET* certainty, but will not spend longer than *MAX_ITERATIONS* on generating one AE.\n",
    "\n",
    "The output is saved to *OUTPUT_ROOT*, with the following structure:\n",
    "- For each class, there is a directory with the class name\n",
    "- The directory contains the AEs as .npy files, with the adversarial class as the filename\n",
    "- There is a history.csv file in each directory that records the final confidence and the required iterations for each AE.\n",
    "- The history.csv file has the format (class_representative_filename, adversarial_class_name, confidence, iterations)\n",
    "\n",
    "We start with imports and by setting paths and constants."
   ]
  },
  {
   "cell_type": "code",
   "execution_count": 1,
   "metadata": {
    "collapsed": false
   },
   "outputs": [],
   "source": [
    "import random\n",
    "import sys\n",
    "import os\n",
    "import csv\n",
    "import numpy as np\n",
    "import caffe\n",
    "import adex\n",
    "import adex.googlenet\n",
    "\n",
    "CAFFE_ROOT = '/home/chrisbot/Projects/caffe'\n",
    "DATA_ROOT = '/media/sf_Masterarbeit/data/ILSVRC2012_img_train_t3'\n",
    "OUTPUT_ROOT = '/media/sf_Masterarbeit/data/ILSVRC2012_img_train_t3_adversarial'\n",
    "BATCH_SIZE = 1\n",
    "\n",
    "AE_GRAD_COEFF = 0.9\n",
    "CONFIDENCE_TARGET = 0.9\n",
    "MAX_ITERATIONS = 5"
   ]
  },
  {
   "cell_type": "markdown",
   "metadata": {},
   "source": [
    "Next, we load the network, the labels and a transformer for i/o."
   ]
  },
  {
   "cell_type": "code",
   "execution_count": 2,
   "metadata": {
    "collapsed": false
   },
   "outputs": [],
   "source": [
    "net = adex.googlenet.load_model(CAFFE_ROOT, BATCH_SIZE)\n",
    "labels = adex.googlenet.load_labels(CAFFE_ROOT) # TODO do we need those?\n",
    "transformer = adex.googlenet.build_transformer(net)"
   ]
  },
  {
   "cell_type": "markdown",
   "metadata": {},
   "source": [
    "Since we only have the name of the class, we need to get the actual network label. The following function does that."
   ]
  },
  {
   "cell_type": "code",
   "execution_count": 3,
   "metadata": {
    "collapsed": false
   },
   "outputs": [],
   "source": [
    "def get_label_from_classname(labels, classname):\n",
    "    classname = classname.strip()\n",
    "    \n",
    "    for index, l in enumerate(labels):\n",
    "        if l[0].strip() == classname:\n",
    "            return index\n",
    "    else:\n",
    "        raise KeyError('Class name not found')"
   ]
  },
  {
   "cell_type": "code",
   "execution_count": 5,
   "metadata": {
    "collapsed": false
   },
   "outputs": [
    {
     "name": "stdout",
     "output_type": "stream",
     "text": [
      "Transforming class n02112018 (0/120):\n",
      "........................................................................................................................"
     ]
    }
   ],
   "source": [
    "class_directories = os.listdir(DATA_ROOT)\n",
    "for directory_index, class_directory in enumerate(class_directories): # Iterate over all classes / their directories\n",
    "    class_files = os.listdir(DATA_ROOT + '/' + class_directory)\n",
    "    random_class_representative = random.choice(class_files)\n",
    "    \n",
    "    # Load the representative image for this class\n",
    "    image = caffe.io.load_image(DATA_ROOT + '/' + class_directory + '/' + random_class_representative)\n",
    "    image = transformer.preprocess('data', image)\n",
    "    image = np.expand_dims(image, 0)\n",
    "    \n",
    "    print('Transforming class {0} ({1}/{2}):'.format(class_directory, directory_index, len(class_directories)))\n",
    "    \n",
    "    # Prepare output directory\n",
    "    try:\n",
    "        os.mkdir(OUTPUT_ROOT + '/' + class_directory)\n",
    "    except OSError:\n",
    "        pass # Directory already exists\n",
    "    \n",
    "    history = [] # Keeps track of confidence and iterations\n",
    "    for target_class_directory in class_directories: # Iterate over all classes again\n",
    "        #if class_directory == target_class_directory: # Do not transform a class into itself\n",
    "        #    continue\n",
    "        sys.stdout.write('.')\n",
    "        \n",
    "        label = get_label_from_classname(labels, target_class_directory) # Get the target label\n",
    "        label = np.array([label])\n",
    "        \n",
    "        adversarial_image, confidence, iterations = adex.core.make_adversarial(net,\n",
    "                                                                               image, label, AE_GRAD_COEFF,\n",
    "                                                                               CONFIDENCE_TARGET, MAX_ITERATIONS)\n",
    "        \n",
    "        history.append( [random_class_representative, target_class_directory, confidence, iterations] )\n",
    "        np.save(OUTPUT_ROOT + '/' + class_directory + '/' + target_class_directory + '.npy', adversarial_image)\n",
    "    \n",
    "    # Write history to file\n",
    "    with open(OUTPUT_ROOT + '/' + class_directory + '/' + 'history.csv', 'wb') as csvfile:\n",
    "        writer = csv.writer(csvfile)\n",
    "        for target_class_history in history:\n",
    "            writer.writerow(target_class_history)\n",
    "    \n",
    "    break # FIXME remove this"
   ]
  }
 ],
 "metadata": {
  "kernelspec": {
   "display_name": "Python 2",
   "language": "python",
   "name": "python2"
  },
  "language_info": {
   "codemirror_mode": {
    "name": "ipython",
    "version": 2
   },
   "file_extension": ".py",
   "mimetype": "text/x-python",
   "name": "python",
   "nbconvert_exporter": "python",
   "pygments_lexer": "ipython2",
   "version": "2.7.11+"
  }
 },
 "nbformat": 4,
 "nbformat_minor": 0
}
