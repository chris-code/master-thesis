{
 "cells": [
  {
   "cell_type": "code",
   "execution_count": 1,
   "metadata": {
    "collapsed": true
   },
   "outputs": [],
   "source": [
    "import math\n",
    "import numpy as np\n",
    "import matplotlib.pyplot as ppt\n",
    "%matplotlib inline\n",
    "\n",
    "ANGLE_BINS = 16\n",
    "\n",
    "DATA_ROOT = '/media/sf_Masterarbeit/data'\n",
    "ORIG_SPECTRUM_PATH = DATA_ROOT + '/spectra/gtsrb-ae-0.05-minconfidence-0.1-maxorig-0-orig.npy'\n",
    "AE_SPECTRUM_PATH = DATA_ROOT + '/spectra/gtsrb-ae-0.05-minconfidence-0.1-maxorig-0-ae.npy'\n",
    "SAVE_PATH_PREFIX = '/media/sf_Masterarbeit/master-thesis/report/images/spectra/gtsrb-ae-0.05-minconfidence-0.5-maxorig-0'"
   ]
  },
  {
   "cell_type": "code",
   "execution_count": 2,
   "metadata": {
    "collapsed": false
   },
   "outputs": [
    {
     "ename": "IOError",
     "evalue": "[Errno 2] No such file or directory: '/media/sf_Masterarbeit/data/spectra/gtsrb-ae-0.05-minconfidence-0.1-maxorig-0-orig.npy'",
     "output_type": "error",
     "traceback": [
      "\u001b[0;31m---------------------------------------------------------------------------\u001b[0m",
      "\u001b[0;31mIOError\u001b[0m                                   Traceback (most recent call last)",
      "\u001b[0;32m<ipython-input-2-922e745fc785>\u001b[0m in \u001b[0;36m<module>\u001b[0;34m()\u001b[0m\n\u001b[0;32m----> 1\u001b[0;31m \u001b[0moriginal_spectrum\u001b[0m \u001b[0;34m=\u001b[0m \u001b[0mnp\u001b[0m\u001b[0;34m.\u001b[0m\u001b[0mload\u001b[0m\u001b[0;34m(\u001b[0m\u001b[0mORIG_SPECTRUM_PATH\u001b[0m\u001b[0;34m)\u001b[0m\u001b[0;34m\u001b[0m\u001b[0m\n\u001b[0m\u001b[1;32m      2\u001b[0m \u001b[0mae_spectrum\u001b[0m \u001b[0;34m=\u001b[0m \u001b[0mnp\u001b[0m\u001b[0;34m.\u001b[0m\u001b[0mload\u001b[0m\u001b[0;34m(\u001b[0m\u001b[0mAE_SPECTRUM_PATH\u001b[0m\u001b[0;34m)\u001b[0m\u001b[0;34m\u001b[0m\u001b[0m\n\u001b[1;32m      3\u001b[0m \u001b[0mlog_spectra_difference\u001b[0m \u001b[0;34m=\u001b[0m \u001b[0mnp\u001b[0m\u001b[0;34m.\u001b[0m\u001b[0mlog\u001b[0m\u001b[0;34m(\u001b[0m\u001b[0mae_spectrum\u001b[0m\u001b[0;34m)\u001b[0m \u001b[0;34m-\u001b[0m \u001b[0mnp\u001b[0m\u001b[0;34m.\u001b[0m\u001b[0mlog\u001b[0m\u001b[0;34m(\u001b[0m\u001b[0moriginal_spectrum\u001b[0m\u001b[0;34m)\u001b[0m\u001b[0;34m\u001b[0m\u001b[0m\n\u001b[1;32m      4\u001b[0m \u001b[0;34m\u001b[0m\u001b[0m\n\u001b[1;32m      5\u001b[0m \u001b[0mfig\u001b[0m \u001b[0;34m=\u001b[0m \u001b[0mppt\u001b[0m\u001b[0;34m.\u001b[0m\u001b[0mfigure\u001b[0m\u001b[0;34m(\u001b[0m\u001b[0mfigsize\u001b[0m\u001b[0;34m=\u001b[0m\u001b[0;34m(\u001b[0m\u001b[0;36m16\u001b[0m\u001b[0;34m,\u001b[0m \u001b[0;36m4\u001b[0m\u001b[0;34m)\u001b[0m\u001b[0;34m)\u001b[0m\u001b[0;34m\u001b[0m\u001b[0m\n",
      "\u001b[0;32m/usr/lib/python2.7/dist-packages/numpy/lib/npyio.pyc\u001b[0m in \u001b[0;36mload\u001b[0;34m(file, mmap_mode, allow_pickle, fix_imports, encoding)\u001b[0m\n\u001b[1;32m    360\u001b[0m     \u001b[0mown_fid\u001b[0m \u001b[0;34m=\u001b[0m \u001b[0mFalse\u001b[0m\u001b[0;34m\u001b[0m\u001b[0m\n\u001b[1;32m    361\u001b[0m     \u001b[0;32mif\u001b[0m \u001b[0misinstance\u001b[0m\u001b[0;34m(\u001b[0m\u001b[0mfile\u001b[0m\u001b[0;34m,\u001b[0m \u001b[0mbasestring\u001b[0m\u001b[0;34m)\u001b[0m\u001b[0;34m:\u001b[0m\u001b[0;34m\u001b[0m\u001b[0m\n\u001b[0;32m--> 362\u001b[0;31m         \u001b[0mfid\u001b[0m \u001b[0;34m=\u001b[0m \u001b[0mopen\u001b[0m\u001b[0;34m(\u001b[0m\u001b[0mfile\u001b[0m\u001b[0;34m,\u001b[0m \u001b[0;34m\"rb\"\u001b[0m\u001b[0;34m)\u001b[0m\u001b[0;34m\u001b[0m\u001b[0m\n\u001b[0m\u001b[1;32m    363\u001b[0m         \u001b[0mown_fid\u001b[0m \u001b[0;34m=\u001b[0m \u001b[0mTrue\u001b[0m\u001b[0;34m\u001b[0m\u001b[0m\n\u001b[1;32m    364\u001b[0m     \u001b[0;32melse\u001b[0m\u001b[0;34m:\u001b[0m\u001b[0;34m\u001b[0m\u001b[0m\n",
      "\u001b[0;31mIOError\u001b[0m: [Errno 2] No such file or directory: '/media/sf_Masterarbeit/data/spectra/gtsrb-ae-0.05-minconfidence-0.1-maxorig-0-orig.npy'"
     ]
    }
   ],
   "source": [
    "original_spectrum = np.load(ORIG_SPECTRUM_PATH)\n",
    "ae_spectrum = np.load(AE_SPECTRUM_PATH)\n",
    "log_spectra_difference = np.log(ae_spectrum) - np.log(original_spectrum)\n",
    "\n",
    "fig = ppt.figure(figsize=(16, 4))\n",
    "\n",
    "ax = ppt.subplot(1, 3, 1)\n",
    "ppt.imshow(np.log(original_spectrum[0, 0]), cmap='gray', interpolation='none')\n",
    "ppt.title('Original spectrum')\n",
    "\n",
    "ax = ppt.subplot(1, 3, 2)\n",
    "ppt.imshow(np.log(ae_spectrum[0, 0]), cmap='gray', interpolation='none')\n",
    "ppt.title('Adversarial spectrum')\n",
    "\n",
    "ax = ppt.subplot(1, 3, 3)\n",
    "ppt.imshow(log_spectra_difference[0, 0], cmap='gray', interpolation='none')\n",
    "ppt.title('Difference of log spectra')\n",
    "\n",
    "fig.savefig(SAVE_PATH_PREFIX + '-spectra.png', bbox_inches='tight')"
   ]
  },
  {
   "cell_type": "code",
   "execution_count": null,
   "metadata": {
    "collapsed": false
   },
   "outputs": [],
   "source": [
    "def activity_distribution(spectrum, range_bins, angle_bins):\n",
    "    spectrum = spectrum.reshape(spectrum.shape[-2:])\n",
    "    if spectrum.shape[0] % 2 == 0: # If side length is even\n",
    "        center = np.asarray(spectrum.shape) / 2 - np.asarray([1,1])\n",
    "        spectrum = spectrum[1:,1:] # cut off asymmetric parts, shape is now uneven\n",
    "    else: # Side length is odd\n",
    "        center = np.asarray(spectrum.shape) / 2\n",
    "\n",
    "    # Record the summed values at every distance and angle to the origin, and the number of summed values\n",
    "    distance_distribution = np.zeros(shape=(2, range_bins))\n",
    "    angle_distribution = np.zeros(shape=(2, angle_bins))\n",
    "    \n",
    "    # Maxima, the bins scale linearly between 0 and these values\n",
    "    max_distance = math.ceil(np.linalg.norm(center))\n",
    "    max_angle = 2 * math.pi\n",
    "    \n",
    "    for index, value in np.ndenumerate(spectrum):\n",
    "        # Compute distance to origin and the corresponding bin index\n",
    "        distance = np.linalg.norm(np.asarray(index) - center)\n",
    "        distance_index = (distance / max_distance) * range_bins\n",
    "        distance_index = int(math.floor(distance_index))\n",
    "        distance_distribution[:, distance_index] += (value, 1) # Record data in appropriate bin\n",
    "        \n",
    "        # Compute angle and the corresponding bin index\n",
    "        angle = math.atan2(center[0] - index[0], index[1] - center[1])\n",
    "        if angle < 0: # atan2 gives values from -pi to pi. Shift them to 0 to 2pi\n",
    "            angle += 2 * math.pi\n",
    "        angle_index = (angle / max_angle) * angle_bins # from 0 to angle_bins\n",
    "        angle_index = int(math.floor(angle_index))\n",
    "        \n",
    "        if not (np.asarray(index) == center).all(): #ignore origin since it has no well-defined angle\n",
    "            angle_distribution[:, angle_index] += (value, 1) # Record data in appropriate bin\n",
    "    \n",
    "    # Normalize with the number of summed values. Use 0 if there was no point at that distance.\n",
    "    distance_distribution = np.where(distance_distribution[1] == 0, 0, distance_distribution[0] / distance_distribution[1])\n",
    "    angle_distribution = angle_distribution[0] / (angle_distribution[1])\n",
    "    \n",
    "    return distance_distribution, angle_distribution\n",
    "\n",
    "distance_bins = int(round(np.linalg.norm(original_spectrum.shape) / 2))\n",
    "print('Using {0} distance bins and {1} angle bins'.format(distance_bins, ANGLE_BINS))\n",
    "\n",
    "original_distance_distribution, original_angle_distribution = activity_distribution(original_spectrum, distance_bins, ANGLE_BINS)\n",
    "ae_distance_distribution, ae_angle_distribution = activity_distribution(ae_spectrum, distance_bins, ANGLE_BINS)\n",
    "diff_distance_distribution, diff_angle_distribution = activity_distribution(log_spectra_difference, distance_bins, ANGLE_BINS)"
   ]
  },
  {
   "cell_type": "code",
   "execution_count": null,
   "metadata": {
    "collapsed": false
   },
   "outputs": [],
   "source": [
    "fig = ppt.figure(figsize=(16, 4))\n",
    "\n",
    "ax = ppt.subplot(1, 3, 1)\n",
    "ax.set_xscale('log')\n",
    "ax.set_yscale('log')\n",
    "ppt.plot(original_distance_distribution, color='#115EA6')\n",
    "ppt.title('Distance distribution (Original)')\n",
    "\n",
    "ax = ppt.subplot(1, 3, 2)\n",
    "ax.set_xscale('log')\n",
    "ax.set_yscale('log')\n",
    "ppt.plot(ae_distance_distribution, color='#115EA6')\n",
    "ppt.title('Distance distribution (Adversarial)')\n",
    "\n",
    "ax = ppt.subplot(1, 3, 3)\n",
    "ax.set_xscale('log')\n",
    "#ax.set_yscale('log')\n",
    "ppt.plot(diff_distance_distribution, color='#115EA6')\n",
    "ppt.title('Distance distribution (Difference of log spectra)')\n",
    "\n",
    "fig.savefig(SAVE_PATH_PREFIX + '-distance-{0}-bins.png'.format(distance_bins), bbox_inches='tight')\n",
    "\n",
    "\n",
    "\n",
    "fig = ppt.figure(figsize=(16, 4))\n",
    "\n",
    "ax = ppt.subplot(1, 3, 1)\n",
    "#ax.set_xscale('log')\n",
    "ax.set_yscale('log')\n",
    "ppt.bar(np.arange(ANGLE_BINS), original_angle_distribution, color='#115EA6')\n",
    "ppt.title('Angle distribution (Original)')\n",
    "\n",
    "ax = ppt.subplot(1, 3, 2)\n",
    "#ax.set_xscale('log')\n",
    "ax.set_yscale('log')\n",
    "ppt.bar(np.arange(ANGLE_BINS), ae_angle_distribution, color='#115EA6')\n",
    "ppt.title('Angle distribution (Adversarial)')\n",
    "\n",
    "ax = ppt.subplot(1, 3, 3)\n",
    "#ax.set_xscale('log')\n",
    "#ax.set_yscale('log')\n",
    "ppt.bar(np.arange(ANGLE_BINS), diff_angle_distribution, color='#115EA6')\n",
    "ppt.title('Angle distribution (Difference of log spectra)')\n",
    "\n",
    "fig.savefig(SAVE_PATH_PREFIX + '-angle-{0}-bins.png'.format(ANGLE_BINS), bbox_inches='tight')"
   ]
  }
 ],
 "metadata": {
  "kernelspec": {
   "display_name": "Python 2",
   "language": "python",
   "name": "python2"
  },
  "language_info": {
   "codemirror_mode": {
    "name": "ipython",
    "version": 2
   },
   "file_extension": ".py",
   "mimetype": "text/x-python",
   "name": "python",
   "nbconvert_exporter": "python",
   "pygments_lexer": "ipython2",
   "version": "2.7.12"
  }
 },
 "nbformat": 4,
 "nbformat_minor": 1
}
