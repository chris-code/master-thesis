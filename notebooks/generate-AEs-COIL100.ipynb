{
 "cells": [
  {
   "cell_type": "code",
   "execution_count": 1,
   "metadata": {
    "collapsed": false
   },
   "outputs": [],
   "source": [
    "import random\n",
    "import csv\n",
    "import sys\n",
    "import glob\n",
    "import os\n",
    "import numpy as np\n",
    "import caffe\n",
    "import adex.core\n",
    "import adex.coil\n",
    "\n",
    "AE_GRAD_COEFF = 0.1\n",
    "CONFIDENCE_TARGET = 0.9\n",
    "MAX_ITERATIONS = 500\n",
    "\n",
    "#CAFFE_ROOT = '/home/chrisbot/Projects/caffe'\n",
    "LAYOUT_PATH = '/media/sf_Masterarbeit/master-thesis/coil-100/network_normal_deploy.prototxt'\n",
    "WEIGHT_PATH = '/media/sf_Masterarbeit/master-thesis/coil-100/snapshots/normal_iter_75600.caffemodel'\n",
    "DATA_ROOT = '/media/sf_Masterarbeit/data/COIL100'\n",
    "OUTPUT_ROOT = '/media/sf_Masterarbeit/data/COIL100_fullres_AE_{0}'.format(AE_GRAD_COEFF)\n",
    "BATCH_SIZE = 1\n",
    "\n",
    "net = adex.coil.load_model(LAYOUT_PATH, WEIGHT_PATH, BATCH_SIZE)\n",
    "shape = list(net.blobs['data'].data.shape)\n",
    "shape[0] = BATCH_SIZE\n",
    "net.blobs['data'].reshape(*shape)\n",
    "net.blobs['prob'].reshape(BATCH_SIZE, )\n",
    "net.reshape()\n",
    "transformer = adex.coil.build_transformer(net)"
   ]
  },
  {
   "cell_type": "code",
   "execution_count": 2,
   "metadata": {
    "collapsed": false
   },
   "outputs": [],
   "source": [
    "def get_image_dict(path):\n",
    "    image_dict = {}\n",
    "    for coil_img_path in glob.glob(path + '/*.png'):\n",
    "        img_class, _, instance_id = coil_img_path.split('/')[-1].split('_')\n",
    "        img_class = int(img_class[3:]) - 1\n",
    "        instance_id = int(instance_id[:-4])\n",
    "        \n",
    "        try:\n",
    "            image_dict[img_class].append((coil_img_path, instance_id))\n",
    "        except KeyError:\n",
    "            image_dict[img_class] = [(coil_img_path, instance_id)]\n",
    "    return image_dict\n",
    "\n",
    "image_dict = get_image_dict(DATA_ROOT)"
   ]
  },
  {
   "cell_type": "code",
   "execution_count": 3,
   "metadata": {
    "collapsed": false
   },
   "outputs": [
    {
     "name": "stdout",
     "output_type": "stream",
     "text": [
      "."
     ]
    }
   ],
   "source": [
    "try:\n",
    "    os.mkdir(OUTPUT_ROOT)\n",
    "except OSError:\n",
    "    pass # Directory already exists\n",
    "\n",
    "for orig_class in image_dict.keys():\n",
    "    class_representative_path, class_representative_instance_id = random.choice(image_dict[orig_class])\n",
    "    \n",
    "    # Prepare output directory\n",
    "    output_dir = OUTPUT_ROOT + '/' + str(orig_class) + '_' + str(class_representative_instance_id)\n",
    "    try:\n",
    "        os.mkdir(output_dir)\n",
    "    except OSError:\n",
    "        pass # Directory already exists\n",
    "    \n",
    "    history = []\n",
    "    for target_class in image_dict.keys():\n",
    "        image = adex.coil.load_image(transformer, class_representative_path)\n",
    "        target_label = np.array([target_class])\n",
    "        \n",
    "        adversarial_image, confidence, iterations = adex.core.make_adversarial(net, image, target_label, AE_GRAD_COEFF,\n",
    "                                                                               CONFIDENCE_TARGET, MAX_ITERATIONS)\n",
    "        \n",
    "        out_path = output_dir + '/' + str(target_class) + '.npy'\n",
    "        np.save(out_path, adversarial_image)\n",
    "        \n",
    "        # Add data to history\n",
    "        history.append( [orig_class, class_representative_path.split('/')[-1], target_class, confidence, iterations] )\n",
    "    \n",
    "    with open(OUTPUT_ROOT + '/' + str(orig_class) + '_' + 'history.csv', 'wb') as csvfile:\n",
    "        writer = csv.writer(csvfile)\n",
    "        for target_class_history in history:\n",
    "            writer.writerow(target_class_history)\n",
    "    \n",
    "    # A bit of progress feedback\n",
    "    sys.stdout.write('.')\n",
    "    sys.stdout.flush()"
   ]
  }
 ],
 "metadata": {
  "kernelspec": {
   "display_name": "Python 2",
   "language": "python",
   "name": "python2"
  },
  "language_info": {
   "codemirror_mode": {
    "name": "ipython",
    "version": 2
   },
   "file_extension": ".py",
   "mimetype": "text/x-python",
   "name": "python",
   "nbconvert_exporter": "python",
   "pygments_lexer": "ipython2",
   "version": "2.7.12"
  }
 },
 "nbformat": 4,
 "nbformat_minor": 1
}
