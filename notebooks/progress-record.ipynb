{
 "cells": [
  {
   "cell_type": "code",
   "execution_count": null,
   "metadata": {
    "collapsed": false
   },
   "outputs": [],
   "source": [
    "import random\n",
    "import sys\n",
    "import os\n",
    "import csv\n",
    "import numpy as np\n",
    "import caffe\n",
    "import adex\n",
    "import adex.core\n",
    "import adex.coil\n",
    "import adex.gtsrb\n",
    "import adex.googlenet\n",
    "\n",
    "PROGRESS_COUNT = 3\n",
    "ITERATIONS = 5\n",
    "AE_GRAD_COEFF = 0.9\n",
    "DATASET_NAME = 'imagenet'\n",
    "CAFFE_ROOT = '/home/chrisbot/Projects/caffe'\n",
    "IMAGE_LIST_PATH = '/media/sf_Masterarbeit/data/ILSVRC2012_img_train/images_labeled.txt'\n",
    "OUTPUT_PREFIX = '/media/sf_Masterarbeit/data/AE_PROGRESS/{0}_{1}c_{2}iter{3}samples'.format(\n",
    "    DATASET_NAME, AE_GRAD_COEFF, ITERATIONS, PROGRESS_COUNT)\n",
    "\n",
    "BATCH_SIZE = 1\n",
    "net = adex.googlenet.load_model(CAFFE_ROOT + '/models/bvlc_googlenet/deploy.prototxt',\n",
    "                                 CAFFE_ROOT + '/models/bvlc_googlenet/bvlc_googlenet.caffemodel',\n",
    "                                 BATCH_SIZE)\n",
    "transformer = adex.googlenet.build_transformer(net)\n",
    "\n",
    "#net = adex.gtsrb.load_model('/media/sf_Masterarbeit/master-thesis/gtsrb/network_reprod_deploy.prototxt',\n",
    "#                            '/media/sf_Masterarbeit/master-thesis/gtsrb/snapshots/reprod_iter_548926.caffemodel',\n",
    "#                            BATCH_SIZE)\n",
    "#transformer = adex.gtsrb.build_transformer(net)\n",
    "\n",
    "#net = adex.coil.load_model('/media/sf_Masterarbeit/master-thesis/coil-100/network_normal_deploy.prototxt',\n",
    "#                           '/media/sf_Masterarbeit/master-thesis/coil-100/snapshots/normal_iter_75600.caffemodel',\n",
    "#                           BATCH_SIZE)\n",
    "#transformer = adex.coil.build_transformer(net)\n",
    "\n",
    "sys.stdout.write('Generating {0} AEs with c={1} for {2} iterations.\\n'.format(PROGRESS_COUNT, AE_GRAD_COEFF, ITERATIONS))\n",
    "sys.stdout.flush()"
   ]
  },
  {
   "cell_type": "code",
   "execution_count": null,
   "metadata": {
    "collapsed": false
   },
   "outputs": [],
   "source": [
    "def get_image_list(path):\n",
    "    image_list = []\n",
    "    \n",
    "    with open(path) as image_list_file:\n",
    "        for line in image_list_file:\n",
    "            line = line.strip()\n",
    "            img_class = line.split()[-1]\n",
    "            img_path = line[:-len(img_class)].strip()\n",
    "            img_class = int(img_class.strip())\n",
    "            \n",
    "            image_list.append((img_path, img_class))\n",
    "            \n",
    "    return image_list\n",
    "\n",
    "image_list = get_image_list(IMAGE_LIST_PATH)\n",
    "\n",
    "# Determine valid target classes\n",
    "classes = set()\n",
    "for img_path, img_class in image_list:\n",
    "    classes.add(img_class)\n",
    "classes = list(classes)\n",
    "sys.stdout.write('Found {0} classes\\n'.format(len(classes)))\n",
    "\n",
    "random.shuffle(image_list)\n",
    "image_list = image_list[:PROGRESS_COUNT]\n",
    "sys.stdout.write('Using {0} images\\n'.format(len(image_list)))\n",
    "sys.stdout.flush()"
   ]
  },
  {
   "cell_type": "code",
   "execution_count": null,
   "metadata": {
    "collapsed": false
   },
   "outputs": [],
   "source": [
    "def make_ae(net, data, desired_labels, ae_grad_coeff, iterations):\n",
    "    progress = np.zeros(shape=(iterations))\n",
    "    ae_data = data.copy()\n",
    "    \n",
    "    for i in range(iterations):\n",
    "        ae_data, confidence, _ = adex.core.make_adversarial(net, ae_data, desired_labels, ae_grad_coeff / iterations,\n",
    "                                                            100, 1)\n",
    "        progress[i] = confidence\n",
    "    \n",
    "    return ae_data, progress\n",
    "\n",
    "csv_data = []\n",
    "progress_record = np.empty(shape=(PROGRESS_COUNT, ITERATIONS))\n",
    "for idx, line in enumerate(image_list):\n",
    "    img_path, source_class = line\n",
    "    \n",
    "    image = caffe.io.load_image(img_path)\n",
    "    image = transformer.preprocess('data', image)\n",
    "    image = np.expand_dims(image, 0)\n",
    "    \n",
    "    target_class = random.choice(classes)\n",
    "    \n",
    "    _, progress = make_ae(net, image, np.array([target_class]), AE_GRAD_COEFF, ITERATIONS)\n",
    "    progress_record[idx, :] = progress\n",
    "    \n",
    "    csv_data.append([source_class, img_path[IMAGE_LIST_PATH.rfind('/')+1:], target_class, '', progress[-1], ITERATIONS])\n",
    "    \n",
    "    sys.stdout.write('.')\n",
    "    sys.stdout.flush()"
   ]
  },
  {
   "cell_type": "code",
   "execution_count": null,
   "metadata": {
    "collapsed": false
   },
   "outputs": [],
   "source": [
    "try:\n",
    "    os.makedirs(OUTPUT_PREFIX[:OUTPUT_PREFIX.rfind('/')])\n",
    "except OSError:\n",
    "    pass\n",
    "\n",
    "np.save(OUTPUT_PREFIX + '_data.npy', progress_record)\n",
    "\n",
    "fieldnames = ['SourceClass', 'SourcePath', 'TargetClass', 'TargetPath', 'Confidence', 'Iterations']\n",
    "\n",
    "csv_data = [{x: y for x, y in zip(fieldnames, row)} for row in csv_data]\n",
    "with open(OUTPUT_PREFIX + '_meta.csv', 'w') as outfile:\n",
    "    csv_writer = csv.DictWriter(outfile, fieldnames=fieldnames)\n",
    "    csv_writer.writeheader()\n",
    "    for row in csv_data:\n",
    "        csv_writer.writerow(row)\n",
    "\n",
    "sys.stdout.write('done.\\n')\n",
    "sys.stdout.flush()"
   ]
  }
 ],
 "metadata": {
  "kernelspec": {
   "display_name": "Python 2",
   "language": "python",
   "name": "python2"
  },
  "language_info": {
   "codemirror_mode": {
    "name": "ipython",
    "version": 2
   },
   "file_extension": ".py",
   "mimetype": "text/x-python",
   "name": "python",
   "nbconvert_exporter": "python",
   "pygments_lexer": "ipython2",
   "version": "2.7.12"
  }
 },
 "nbformat": 4,
 "nbformat_minor": 1
}
