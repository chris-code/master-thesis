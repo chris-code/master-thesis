{
 "cells": [
  {
   "cell_type": "code",
   "execution_count": 1,
   "metadata": {
    "collapsed": false
   },
   "outputs": [
    {
     "name": "stdout",
     "output_type": "stream",
     "text": [
      "Working with AE batch /media/sf_Masterarbeit/data/AE/ILSVRC2012_AE_50\n",
      "Dividing confidences into 1000 steps\n"
     ]
    }
   ],
   "source": [
    "import glob\n",
    "import csv\n",
    "import numpy as np\n",
    "import matplotlib.pyplot as ppt\n",
    "%matplotlib inline\n",
    "\n",
    "STEPS = 1000\n",
    "LIMITS = np.linspace(start=0, stop=1, num=STEPS)\n",
    "\n",
    "#AE_ROOT = '/media/sf_Masterarbeit/data/GTSRB_TRAIN_PREPROCESSED_AE_0.037'\n",
    "AE_ROOT = '/media/sf_Masterarbeit/data/AE/ILSVRC2012_AE_50'\n",
    "SAVE_PATH = '/media/sf_Masterarbeit/master-thesis/report/images/ae-batch-distribution/imagenet-ae-50.png'\n",
    "\n",
    "print('Working with AE batch {0}'.format(AE_ROOT))\n",
    "print('Dividing confidences into {0} steps'.format(STEPS))"
   ]
  },
  {
   "cell_type": "code",
   "execution_count": 2,
   "metadata": {
    "collapsed": false
   },
   "outputs": [
    {
     "name": "stdout",
     "output_type": "stream",
     "text": [
      "Collected 2500 confidence values.\n"
     ]
    }
   ],
   "source": [
    "confidences = []\n",
    "\n",
    "for csv_path in glob.glob(AE_ROOT + '/*.csv'):\n",
    "    with open(csv_path) as csv_file:\n",
    "        csv_reader = csv.DictReader(csv_file)\n",
    "        for row in csv_reader:\n",
    "            confidences.append(float(row['Confidence']))\n",
    "\n",
    "confidences.sort()\n",
    "\n",
    "print('Collected {0} confidence values.'.format(len(confidences)))"
   ]
  },
  {
   "cell_type": "code",
   "execution_count": 3,
   "metadata": {
    "collapsed": false
   },
   "outputs": [],
   "source": [
    "percentiles = []\n",
    "for l in LIMITS:\n",
    "    for idx, confidence in enumerate(reversed(confidences)):\n",
    "        if confidence < l:\n",
    "            percentiles.append(idx)\n",
    "            break\n",
    "    else:\n",
    "        percentiles.append(len(confidences))"
   ]
  },
  {
   "cell_type": "code",
   "execution_count": 4,
   "metadata": {
    "collapsed": false
   },
   "outputs": [
    {
     "data": {
      "image/png": "[encoded data removed]",
      "text/plain": [
       "<matplotlib.figure.Figure at 0x7f84e81b87d0>"
      ]
     },
     "metadata": {},
     "output_type": "display_data"
    }
   ],
   "source": [
    "ppt.plot(LIMITS, percentiles)\n",
    "ppt.xlabel('Confidence level')\n",
    "ppt.ylabel('Number of AEs')\n",
    "ppt.yscale('log')\n",
    "\n",
    "ppt.savefig(SAVE_PATH, bbox_inches='tight')"
   ]
  }
 ],
 "metadata": {
  "kernelspec": {
   "display_name": "Python 2",
   "language": "python",
   "name": "python2"
  },
  "language_info": {
   "codemirror_mode": {
    "name": "ipython",
    "version": 2
   },
   "file_extension": ".py",
   "mimetype": "text/x-python",
   "name": "python",
   "nbconvert_exporter": "python",
   "pygments_lexer": "ipython2",
   "version": "2.7.12"
  }
 },
 "nbformat": 4,
 "nbformat_minor": 1
}
