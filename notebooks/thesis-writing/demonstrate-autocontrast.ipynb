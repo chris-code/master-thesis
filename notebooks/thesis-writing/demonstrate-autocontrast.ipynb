{
 "cells": [
  {
   "cell_type": "code",
   "execution_count": 1,
   "metadata": {
    "collapsed": true
   },
   "outputs": [],
   "source": [
    "import PIL.Image\n",
    "import PIL.ImageOps\n",
    "\n",
    "in_file = '/media/sf_Masterarbeit/master-thesis/report/images/gtsrb/problems/class19_00004_00029.jpg'\n",
    "out_file = '/media/sf_Masterarbeit/master-thesis/report/images/gtsrb/problems/class19_00004_00029_normalized_contrast.jpg'\n",
    "\n",
    "image = PIL.Image.open(in_file)\n",
    "image = PIL.ImageOps.autocontrast(image)\n",
    "\n",
    "image.save(out_file)"
   ]
  }
 ],
 "metadata": {
  "kernelspec": {
   "display_name": "Python 2",
   "language": "python",
   "name": "python2"
  },
  "language_info": {
   "codemirror_mode": {
    "name": "ipython",
    "version": 2
   },
   "file_extension": ".py",
   "mimetype": "text/x-python",
   "name": "python",
   "nbconvert_exporter": "python",
   "pygments_lexer": "ipython2",
   "version": "2.7.12"
  }
 },
 "nbformat": 4,
 "nbformat_minor": 1
}
