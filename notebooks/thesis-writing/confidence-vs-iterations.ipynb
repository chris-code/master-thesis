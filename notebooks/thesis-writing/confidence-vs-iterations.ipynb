{
 "cells": [
  {
   "cell_type": "code",
   "execution_count": 1,
   "metadata": {
    "collapsed": false
   },
   "outputs": [],
   "source": [
    "import sys\n",
    "import numpy as np\n",
    "import caffe\n",
    "import adex\n",
    "import adex.core\n",
    "import adex.googlenet\n",
    "\n",
    "CAFFE_ROOT = '/home/chrisbot/Projects/caffe'\n",
    "BATCH_SIZE = 1\n",
    "net = adex.googlenet.load_model(CAFFE_ROOT, BATCH_SIZE)\n",
    "labels = adex.googlenet.load_labels(CAFFE_ROOT)\n",
    "transformer = adex.googlenet.build_transformer(net)"
   ]
  },
  {
   "cell_type": "code",
   "execution_count": 2,
   "metadata": {
    "collapsed": false
   },
   "outputs": [
    {
     "name": "stdout",
     "output_type": "stream",
     "text": [
      "Iterations : [10, 25, 50, 75, 100, 125, 150, 175, 200, 225, 250, 275, 300, 325, 350, 375, 400, 425, 450, 475, 500]\n",
      "['n12267677 ', 'acorn']\n"
     ]
    }
   ],
   "source": [
    "IMAGE_PATH = '/media/sf_Masterarbeit/data/example_images/panda.jpg'\n",
    "TARGET_CLASS_NAME = ('n12267677', 'acorn')\n",
    "#TARGET_CLASS_NAME = ('n03016953', 'dresser')\n",
    "#TARGET_CLASS_NAME = ('n03837869', 'obelisk')\n",
    "#TARGET_CLASS_NAME = 'n02749479' #rifle\n",
    "\n",
    "NORM_PERCENTILE = 98\n",
    "AE_GRAD_COEFF = 0.9\n",
    "ITERATIONS_RANGE = [25 * i for i in range(1, 20+1)] # TODO 25 * (1, 20+1)\n",
    "ITERATIONS_RANGE.insert(0, 10)\n",
    "sys.stdout.write('Iterations : {0}\\n'.format(ITERATIONS_RANGE))\n",
    "sys.stdout.flush()\n",
    "\n",
    "image = caffe.io.load_image(IMAGE_PATH)\n",
    "image = transformer.preprocess('data', image)\n",
    "image = np.expand_dims(image, 0)\n",
    "\n",
    "target_label = adex.googlenet.get_label_from_class_name(labels, TARGET_CLASS_NAME[0])\n",
    "target_label = np.array([target_label]) # Caffe-friendly format for labels\n",
    "sys.stdout.write(str(labels[target_label[0]]) + '\\n')\n",
    "sys.stdout.flush()"
   ]
  },
  {
   "cell_type": "code",
   "execution_count": 3,
   "metadata": {
    "collapsed": false
   },
   "outputs": [
    {
     "name": "stdout",
     "output_type": "stream",
     "text": [
      "0.861739 "
     ]
    }
   ],
   "source": [
    "adversarial_images = []\n",
    "confidences = []\n",
    "for i in ITERATIONS_RANGE:\n",
    "    adversarial_image, _, iterations = adex.core.make_adversarial(net, image, target_label, AE_GRAD_COEFF,\n",
    "                                                                               1.1, i)\n",
    "    predictions, probabilities = adex.core.predict(net, adversarial_image)\n",
    "    predictions, probabilities = predictions[0], probabilities[0]\n",
    "    confidence = probabilities[target_label[0]]\n",
    "    sys.stdout.write(str(confidence) + ' ')\n",
    "    sys.stdout.flush()\n",
    "    \n",
    "    adversarial_images.append(adversarial_image)\n",
    "    confidences.append(confidence)\n",
    "    break"
   ]
  },
  {
   "cell_type": "code",
   "execution_count": 6,
   "metadata": {
    "collapsed": false
   },
   "outputs": [
    {
     "name": "stdout",
     "output_type": "stream",
     "text": [
      "# Iterations\tConfidence\n",
      "10\t0.861738920212\n"
     ]
    }
   ],
   "source": [
    "sys.stdout.write('# Iterations\\tConfidence\\n')\n",
    "for i, c in zip(ITERATIONS_RANGE, confidences):\n",
    "    sys.stdout.write('{0}\\t{1}\\n'.format(i, c))\n",
    "sys.stdout.flush()"
   ]
  }
 ],
 "metadata": {
  "kernelspec": {
   "display_name": "Python 2",
   "language": "python",
   "name": "python2"
  },
  "language_info": {
   "codemirror_mode": {
    "name": "ipython",
    "version": 2
   },
   "file_extension": ".py",
   "mimetype": "text/x-python",
   "name": "python",
   "nbconvert_exporter": "python",
   "pygments_lexer": "ipython2",
   "version": "2.7.12"
  }
 },
 "nbformat": 4,
 "nbformat_minor": 1
}
