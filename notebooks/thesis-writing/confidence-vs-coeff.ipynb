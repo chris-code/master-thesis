{
 "cells": [
  {
   "cell_type": "code",
   "execution_count": 1,
   "metadata": {
    "collapsed": true
   },
   "outputs": [],
   "source": [
    "import sys\n",
    "import numpy as np\n",
    "import caffe\n",
    "import adex\n",
    "import adex.core\n",
    "import adex.googlenet\n",
    "\n",
    "CAFFE_ROOT = '/home/chrisbot/Projects/caffe'\n",
    "BATCH_SIZE = 1\n",
    "net = adex.googlenet.load_model(CAFFE_ROOT, BATCH_SIZE)\n",
    "labels = adex.googlenet.load_labels(CAFFE_ROOT)\n",
    "transformer = adex.googlenet.build_transformer(net)"
   ]
  },
  {
   "cell_type": "code",
   "execution_count": 2,
   "metadata": {
    "collapsed": false
   },
   "outputs": [
    {
     "name": "stdout",
     "output_type": "stream",
     "text": [
      "Coeffs: [ 0.3  0.6  0.9  1.2  1.5  1.8  2.1  2.4  2.7  3. ]\n",
      "['n12267677 ', 'acorn']\n"
     ]
    }
   ],
   "source": [
    "IMAGE_PATH = '/media/sf_Masterarbeit/data/example_images/panda.jpg'\n",
    "TARGET_CLASS_NAME = ('n12267677', 'acorn')\n",
    "#TARGET_CLASS_NAME = ('n03016953', 'dresser')\n",
    "#TARGET_CLASS_NAME = ('n03837869', 'obelisk')\n",
    "#TARGET_CLASS_NAME = 'n02749479' #rifle\n",
    "\n",
    "NORM_PERCENTILE = 98\n",
    "AE_GRAD_COEFF_RANGE = np.linspace(0.3, 3.0, 10)\n",
    "ITERATIONS = 50\n",
    "\n",
    "sys.stdout.write('Coeffs: {0}\\n'.format(AE_GRAD_COEFF_RANGE))\n",
    "sys.stdout.flush()\n",
    "\n",
    "image = caffe.io.load_image(IMAGE_PATH)\n",
    "image = transformer.preprocess('data', image)\n",
    "image = np.expand_dims(image, 0)\n",
    "\n",
    "target_label = adex.googlenet.get_label_from_class_name(labels, TARGET_CLASS_NAME[0])\n",
    "target_label = np.array([target_label]) # Caffe-friendly format for labels\n",
    "sys.stdout.write(str(labels[target_label[0]]) + '\\n')\n",
    "sys.stdout.flush()"
   ]
  },
  {
   "cell_type": "code",
   "execution_count": 3,
   "metadata": {
    "collapsed": false
   },
   "outputs": [
    {
     "name": "stdout",
     "output_type": "stream",
     "text": [
      "0.00124371 0.143459 0.861739 0.991789 0.999155 0.999905 0.999983 0.999996 0.999999 1.0 "
     ]
    }
   ],
   "source": [
    "adversarial_images = []\n",
    "confidences = []\n",
    "for c in AE_GRAD_COEFF_RANGE:\n",
    "    adversarial_image, _, _ = adex.core.make_adversarial(net, image, target_label, c,\n",
    "                                                                               1.1, ITERATIONS)\n",
    "    predictions, probabilities = adex.core.predict(net, adversarial_image)\n",
    "    predictions, probabilities = predictions[0], probabilities[0]\n",
    "    confidence = probabilities[target_label[0]]\n",
    "    sys.stdout.write(str(confidence) + ' ')\n",
    "    sys.stdout.flush()\n",
    "    \n",
    "    adversarial_images.append(adversarial_image)\n",
    "    confidences.append(confidence)"
   ]
  },
  {
   "cell_type": "code",
   "execution_count": 4,
   "metadata": {
    "collapsed": false
   },
   "outputs": [
    {
     "name": "stdout",
     "output_type": "stream",
     "text": [
      "# Coeff\tConfidence\n",
      "0.3\t0.00124370958656\n",
      "0.6\t0.143459364772\n",
      "0.9\t0.861738920212\n",
      "1.2\t0.991788804531\n",
      "1.5\t0.999154925346\n",
      "1.8\t0.999905347824\n",
      "2.1\t0.999982595444\n",
      "2.4\t0.999995946884\n",
      "2.7\t0.999999165535\n",
      "3.0\t0.999999642372\n"
     ]
    }
   ],
   "source": [
    "sys.stdout.write('# Coeff\\tConfidence\\n')\n",
    "for ae_coeff, confid in zip(AE_GRAD_COEFF_RANGE, confidences):\n",
    "    sys.stdout.write('{0}\\t{1}\\n'.format(ae_coeff, confid))\n",
    "sys.stdout.flush()"
   ]
  }
 ],
 "metadata": {
  "kernelspec": {
   "display_name": "Python 2",
   "language": "python",
   "name": "python2"
  },
  "language_info": {
   "codemirror_mode": {
    "name": "ipython",
    "version": 2
   },
   "file_extension": ".py",
   "mimetype": "text/x-python",
   "name": "python",
   "nbconvert_exporter": "python",
   "pygments_lexer": "ipython2",
   "version": "2.7.12"
  }
 },
 "nbformat": 4,
 "nbformat_minor": 1
}
