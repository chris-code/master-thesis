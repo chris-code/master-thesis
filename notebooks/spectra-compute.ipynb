{
 "cells": [
  {
   "cell_type": "code",
   "execution_count": 1,
   "metadata": {
    "collapsed": false
   },
   "outputs": [],
   "source": [
    "import math\n",
    "import random\n",
    "import sys\n",
    "import glob\n",
    "import csv\n",
    "import os\n",
    "import numpy as np\n",
    "import caffe\n",
    "import adex.core\n",
    "import adex.data\n",
    "import adex.googlenet\n",
    "import adex.gtsrb\n",
    "\n",
    "AE_BATCH_NAME = 'gtsrb-ae-0.05'\n",
    "IS_IMAGENET = False\n",
    "MIN_AE_CONFIDENCE = 0.5\n",
    "MAX_ORIGINAL_IMAGES = 100 # Set to 0 for no limit\n",
    "\n",
    "CAFFE_ROOT = '/home/chrisbot/Projects/caffe'\n",
    "DATA_ROOT = '/media/sf_Masterarbeit/data'\n",
    "ORIG_ROOT = DATA_ROOT + '/GTSRB_TRAIN_PREPROCESSED'\n",
    "AE_ROOT = DATA_ROOT + '/GTSRB_TRAIN_PREPROCESSED_AE_0.5'\n",
    "SAVE_PATH_PREFIX = DATA_ROOT + '/spectra/{0}-minconfidence-{1}-maxorig-{2}'.format(\n",
    "    AE_BATCH_NAME, MIN_AE_CONFIDENCE, MAX_ORIGINAL_IMAGES)\n",
    "\n",
    "BATCH_SIZE = 1\n",
    "net_imagenet = adex.googlenet.load_model(CAFFE_ROOT, BATCH_SIZE)\n",
    "transformer_imagenet = adex.googlenet.build_transformer(net_imagenet)\n",
    "\n",
    "net_gtsrb = adex.gtsrb.load_model('/media/sf_Masterarbeit/master-thesis/gtsrb/network_reprod_deploy.prototxt',\n",
    "                                 '/media/sf_Masterarbeit/master-thesis/gtsrb/snapshots/reprod_iter_548926.caffemodel',\n",
    "                                 BATCH_SIZE)\n",
    "transformer_gtsrb = adex.gtsrb.build_transformer(net_gtsrb)"
   ]
  },
  {
   "cell_type": "code",
   "execution_count": 2,
   "metadata": {
    "collapsed": false
   },
   "outputs": [
    {
     "name": "stdout",
     "output_type": "stream",
     "text": [
      "Working with 100 original images\n",
      "Working with 1849 AEs\n"
     ]
    }
   ],
   "source": [
    "def get_original_list(orig_root, max_original_images):\n",
    "    original_list = []\n",
    "    for cls_path in glob.glob(orig_root + '/*'):\n",
    "        for cls_member in glob.glob(cls_path + '/*'):\n",
    "            original_list.append(cls_member)\n",
    "    random.shuffle(original_list)\n",
    "    if max_original_images is not 0:\n",
    "        original_list = original_list[:max_original_images]\n",
    "    return(original_list)\n",
    "    \n",
    "original_list = get_original_list(ORIG_ROOT, MAX_ORIGINAL_IMAGES)\n",
    "sys.stdout.write('Working with {0} original images\\n'.format(len(original_list)))\n",
    "sys.stdout.flush()\n",
    "\n",
    "def get_ae_list_imagenet(ae_root, min_ae_confidence):\n",
    "    ae_list = []\n",
    "    for csv_path in glob.glob(ae_root + '/*.csv'):\n",
    "        with open(csv_path) as csv_file:\n",
    "            csv_reader = csv.reader(csv_file)\n",
    "            for row in csv_reader:\n",
    "                row[2], row[3] = float(row[2]), int(row[3])\n",
    "                ae_path = ae_root + '/' + row[0].split('.')[0] + '/' + row[1] + '.npy'\n",
    "                if row[2] >= min_ae_confidence:\n",
    "                    ae_list.append(ae_path)\n",
    "    return ae_list\n",
    "\n",
    "def get_ae_list_gtsrb(ae_root, min_ae_confidence):\n",
    "    ae_list = []\n",
    "    for csv_path in glob.glob(ae_root + '/*.csv'):\n",
    "        with open(csv_path) as csv_file:\n",
    "            csv_reader = csv.reader(csv_file)\n",
    "            for row in csv_reader:\n",
    "                row[3], row[4] = float(row[3]), int(row[4])\n",
    "                ae_path = ae_root + '/' + row[0] + '_' + row[1].split('.')[0] + '/' + row[2] + '.npy'\n",
    "                if row[3] >= min_ae_confidence:\n",
    "                    ae_list.append(ae_path)\n",
    "    return ae_list\n",
    "\n",
    "if IS_IMAGENET:\n",
    "    ae_list = get_ae_list_imagenet(AE_ROOT, MIN_AE_CONFIDENCE)\n",
    "else:\n",
    "    ae_list = get_ae_list_gtsrb(AE_ROOT, MIN_AE_CONFIDENCE)\n",
    "sys.stdout.write('Working with {0} AEs\\n'.format(len(ae_list)))\n",
    "sys.stdout.flush()"
   ]
  },
  {
   "cell_type": "code",
   "execution_count": 3,
   "metadata": {
    "collapsed": true
   },
   "outputs": [],
   "source": [
    "def original_loader_imagenet(path):\n",
    "    img = adex.googlenet.load_image(transformer_imagenet, path)\n",
    "    img = adex.data.grayvalue_image(img)\n",
    "    img = img[...,:-1,:-1] # Make dimensions odd, required for symmetry\n",
    "    img /= math.sqrt(np.sum(img**2))\n",
    "    return img\n",
    "\n",
    "def original_loader_gtsrb(path):\n",
    "    img = adex.gtsrb.load_image(transformer_gtsrb, path)\n",
    "    img = adex.data.grayvalue_image(img)\n",
    "    img = img[...,:-1,:-1] # Make dimensions odd, required for symmetry\n",
    "    img /= math.sqrt(np.sum(img**2))\n",
    "    return img\n",
    "\n",
    "def ae_loader(path):\n",
    "    img = np.load(path)\n",
    "    img = adex.data.grayvalue_image(img)\n",
    "    img = img[...,:-1,:-1] # Make dimensions odd, required for symmetry\n",
    "    img /= math.sqrt(np.sum(img**2))\n",
    "    return img\n",
    "\n",
    "def compute_spectrum(image_list, image_loader):\n",
    "    spectrum = None\n",
    "    \n",
    "    for idx, path in enumerate(image_list):\n",
    "        img = image_loader(path)\n",
    "\n",
    "        if spectrum is None:\n",
    "            spectrum = adex.data.get_spectrum(img)\n",
    "        else:\n",
    "            spectrum += adex.data.get_spectrum(img)\n",
    "        \n",
    "        # A bit of progress feedback every 1000 images\n",
    "        if idx % 1000 == 0:\n",
    "            sys.stdout.write('.')\n",
    "            sys.stdout.flush()\n",
    "    sys.stdout.write('\\n')\n",
    "    sys.stdout.flush()\n",
    "    \n",
    "    spectrum /= len(image_list)\n",
    "    return spectrum"
   ]
  },
  {
   "cell_type": "code",
   "execution_count": 4,
   "metadata": {
    "collapsed": false
   },
   "outputs": [
    {
     "name": "stdout",
     "output_type": "stream",
     "text": [
      "Computing spectrum for /media/sf_Masterarbeit/data/spectra/gtsrb-ae-0.05-minconfidence-0.5-maxorig-100-orig.npy\n",
      ".\n",
      "Saving spectrum to /media/sf_Masterarbeit/data/spectra/gtsrb-ae-0.05-minconfidence-0.5-maxorig-100-orig.npy\n",
      "Computing spectrum for /media/sf_Masterarbeit/data/spectra/gtsrb-ae-0.05-minconfidence-0.5-maxorig-100-ae.npy\n",
      "..\n",
      "Saving spectrum to /media/sf_Masterarbeit/data/spectra/gtsrb-ae-0.05-minconfidence-0.5-maxorig-100-ae.npy\n"
     ]
    }
   ],
   "source": [
    "original_save_path = SAVE_PATH_PREFIX + '-orig.npy'\n",
    "ae_save_path = SAVE_PATH_PREFIX + '-ae.npy'\n",
    "\n",
    "def compute_if_not_exists(file_list, loader, path):\n",
    "    if os.path.isfile(path):\n",
    "        sys.stdout.write('Skipping original spectrum computation: {0} exists\\n'.format(path))\n",
    "    else:\n",
    "        sys.stdout.write('Computing spectrum for {0}\\n'.format(path))\n",
    "        spectrum = compute_spectrum(file_list, loader)\n",
    "        np.save(path, spectrum)\n",
    "        sys.stdout.write('Saving spectrum to {0}\\n'.format(path))\n",
    "    sys.stdout.flush()\n",
    "\n",
    "if IS_IMAGENET:\n",
    "    compute_if_not_exists(original_list, original_loader_imagenet, original_save_path)\n",
    "else:\n",
    "    compute_if_not_exists(original_list, original_loader_gtsrb, original_save_path)\n",
    "compute_if_not_exists(ae_list, ae_loader, ae_save_path)"
   ]
  }
 ],
 "metadata": {
  "kernelspec": {
   "display_name": "Python 2",
   "language": "python",
   "name": "python2"
  },
  "language_info": {
   "codemirror_mode": {
    "name": "ipython",
    "version": 2
   },
   "file_extension": ".py",
   "mimetype": "text/x-python",
   "name": "python",
   "nbconvert_exporter": "python",
   "pygments_lexer": "ipython2",
   "version": "2.7.12"
  }
 },
 "nbformat": 4,
 "nbformat_minor": 1
}
