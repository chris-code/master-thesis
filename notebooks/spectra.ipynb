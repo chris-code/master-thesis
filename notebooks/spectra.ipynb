{
 "cells": [
  {
   "cell_type": "markdown",
   "metadata": {},
   "source": [
    "# Spectra of Adversarial Examples\n",
    "Since the gradients that are used to turn an image it into an adversarial example seem to consist mostly of very high frequencies, the spectra of AEs are of interest. To compute and display them, we first need to set up an appropriate network. We start a bunch of imports and by setting some constants."
   ]
  },
  {
   "cell_type": "code",
   "execution_count": 1,
   "metadata": {
    "collapsed": false
   },
   "outputs": [],
   "source": [
    "import math\n",
    "import numpy as np\n",
    "import matplotlib.pyplot as ppt\n",
    "import caffe\n",
    "import adex\n",
    "import adex.core\n",
    "import adex.data\n",
    "import adex.imagenet\n",
    "\n",
    "%matplotlib inline\n",
    "caffe.set_mode_cpu()\n",
    "\n",
    "caffe_root = '/home/chrisbot/Projects/caffe'\n",
    "data_root = '/media/sf_Masterarbeit/data'\n",
    "spectrum_root = data_root\n",
    "\n",
    "BATCH_LIMIT = 1 # TODO set to None\n",
    "BATCH_SIZE = 1 # how many images to process at once\n",
    "CONFIDENCE_TARGET = 0.9\n",
    "AE_GRADIENT_COEFFICIENT = 0.9\n",
    "AE_GENERATION_ITERATIONS = 10"
   ]
  },
  {
   "cell_type": "markdown",
   "metadata": {},
   "source": [
    "Next, we load the network model, the labels and a transformer that prepares our images to fit inside the network's first layer."
   ]
  },
  {
   "cell_type": "code",
   "execution_count": 2,
   "metadata": {
    "collapsed": false
   },
   "outputs": [],
   "source": [
    "net = adex.imagenet.load_model(caffe_root, BATCH_SIZE)\n",
    "imagenet_labels = adex.imagenet.load_labels(caffe_root)\n",
    "transformer = adex.imagenet.build_transformer(net)"
   ]
  },
  {
   "cell_type": "markdown",
   "metadata": {},
   "source": [
    "To conclude preparation, we need data."
   ]
  },
  {
   "cell_type": "code",
   "execution_count": 3,
   "metadata": {
    "collapsed": false
   },
   "outputs": [],
   "source": [
    "image_list_file = data_root + '/ILSVRC2012_img_train_t3.txt'\n",
    "\n",
    "with open(image_list_file) as f:\n",
    "    image_list = f.readlines()\n",
    "image_list = [line.strip() for line in image_list]\n",
    "\n",
    "data_shape = net.blobs['data'].data.shape"
   ]
  },
  {
   "cell_type": "markdown",
   "metadata": {},
   "source": [
    "## Inspecting the spectra\n",
    "At last, we compute the spectrum of the data by computing each image's spectrum and summing the result. For each image we generate an adversarial example and do the same."
   ]
  },
  {
   "cell_type": "code",
   "execution_count": 4,
   "metadata": {
    "collapsed": false
   },
   "outputs": [
    {
     "name": "stdout",
     "output_type": "stream",
     "text": [
      "average confidence of 2.75687199291e-07 after iteration 0\n",
      "average confidence of 1.33865887619e-06 after iteration 1\n",
      "average confidence of 5.67068900637e-06 after iteration 2\n",
      "average confidence of 2.04733587452e-05 after iteration 3\n",
      "average confidence of 6.52068993077e-05 after iteration 4\n",
      "average confidence of 0.000173987034941 after iteration 5\n",
      "average confidence of 0.000405439845053 after iteration 6\n",
      "average confidence of 0.000855442136526 after iteration 7\n",
      "average confidence of 0.00161580229178 after iteration 8\n",
      "average confidence of 0.00280778110027 after iteration 9\n"
     ]
    }
   ],
   "source": [
    "original_spectrum = np.zeros(shape=(1, 1, data_shape[2], data_shape[3]))\n",
    "adversarial_spectrum = np.zeros_like(original_spectrum)\n",
    "#for _ in range(BATCH_SIZE):\n",
    "#    image_list.insert(0, 'example_images/panda.jpg')\n",
    "for i in xrange(0, len(image_list), BATCH_SIZE): # Step through the data in chunks of BATCH_SIZE\n",
    "    if BATCH_LIMIT is not None and i >= BATCH_LIMIT:\n",
    "        break\n",
    "    \n",
    "    # The images for this batch. Stop if not enough.\n",
    "    batch_list = image_list[i:i+BATCH_SIZE]\n",
    "    if len(batch_list) != BATCH_SIZE:\n",
    "        break\n",
    "\n",
    "    # Fetch images from disk\n",
    "    data = np.empty(data_shape)\n",
    "    for index, image in enumerate(batch_list): # Load BATCH_SIZE many images\n",
    "        image_data = caffe.io.load_image(data_root + '/' + image)\n",
    "        data[index,...] = transformer.preprocess('data', image_data)\n",
    "    \n",
    "    # Generate adversarial examples\n",
    "    #desired_labels = np.random.randint(len(imagenet_labels), size=data.shape[0]) #FIXME\n",
    "    desired_labels = np.full(shape=(BATCH_SIZE), fill_value=23, dtype=np.int64)\n",
    "    adversarial_data, confidence, iterations = adex.core.make_adversarial(net, data, desired_labels,\n",
    "                                                  AE_GRADIENT_COEFFICIENT, CONFIDENCE_TARGET, AE_GENERATION_ITERATIONS)\n",
    "    \n",
    "    # Get spectra\n",
    "    original_spectrum += np.sum(adex.data.get_spectrum(adex.data.grayvalue_image(data)),\n",
    "                                axis=0, keepdims=True)\n",
    "    adversarial_spectrum += np.sum(adex.data.get_spectrum(adex.data.grayvalue_image(adversarial_data)),\n",
    "                                   axis=0, keepdims=True)"
   ]
  },
  {
   "cell_type": "markdown",
   "metadata": {},
   "source": [
    "Lastly, the images are and saved to disk."
   ]
  },
  {
   "cell_type": "code",
   "execution_count": null,
   "metadata": {
    "collapsed": false
   },
   "outputs": [],
   "source": [
    "# Save data to disk\n",
    "np.save(spectrum_root + 'original_spectrum.npy', original_spectrum)\n",
    "np.save(spectrum_root + 'adversarial_spectrum.npy', adversarial_spectrum)"
   ]
  },
  {
   "cell_type": "markdown",
   "metadata": {},
   "source": [
    "## Visualizing the results\n",
    "The following part is meant to run independently. It loads the data from disk and visualizes it."
   ]
  },
  {
   "cell_type": "code",
   "execution_count": null,
   "metadata": {
    "collapsed": false
   },
   "outputs": [],
   "source": [
    "original_spectrum = np.load(spectrum_root + 'original_spectrum.npy')\n",
    "adversarial_spectrum = np.load(spectrum_root + 'adversarial_spectrum.npy')\n",
    "log_spectrum_difference = np.log(original_spectrum) - np.log(adversarial_spectrum)\n",
    "\n",
    "def activity_distribution(spectrum, bins):\n",
    "    spectrum = spectrum.reshape(spectrum.shape[-2:])\n",
    "\n",
    "    # Record the summed values at every distance to the origin, and the number of summed values\n",
    "    distribution = np.zeros(shape=(bins))\n",
    "    pixel_count = np.zeros_like(distribution)\n",
    "    \n",
    "    center = np.asarray(spectrum.shape) / 2.0\n",
    "    max_distance = math.ceil(np.linalg.norm(center))\n",
    "    \n",
    "    it = np.nditer(spectrum, flags=['multi_index'])\n",
    "    for value in it:\n",
    "        distance = np.linalg.norm(np.asarray(it.multi_index) - center)\n",
    "        index = (distance / max_distance) * (bins - 1)\n",
    "        index = int(round(index))\n",
    "        \n",
    "        distribution[index] += value\n",
    "        pixel_count[index] += 1\n",
    "    \n",
    "    return distribution / (pixel_count + 1)\n",
    "\n",
    "# Plot the distribution of frequencies over distance from the origin on a log scale\n",
    "original_freq_distribution = activity_distribution(original_spectrum, 256)\n",
    "adversarial_freq_distribution = activity_distribution(adversarial_spectrum, 256)\n",
    "log_spectrum_difference_freq_distribution = activity_distribution(log_spectrum_difference, 256)\n",
    "\n",
    "ppt.figure(figsize=(16, 4))\n",
    "\n",
    "ax = ppt.subplot(1, 3, 1)\n",
    "ax.set_xscale('log')\n",
    "ax.set_yscale('log')\n",
    "ppt.plot(original_freq_distribution)\n",
    "ppt.title('Original')\n",
    "\n",
    "ax = ppt.subplot(1, 3, 2)\n",
    "ax.set_xscale('log')\n",
    "ax.set_yscale('log')\n",
    "ppt.plot(adversarial_freq_distribution)\n",
    "ppt.title('Adversarial')\n",
    "\n",
    "\n",
    "ax = ppt.subplot(1, 3, 3)\n",
    "ax.set_xscale('log')\n",
    "#ax.set_yscale('log')\n",
    "ppt.plot(log_spectrum_difference_freq_distribution)\n",
    "ppt.title('Log-spectrum difference')\n",
    "\n",
    "\n",
    "# Display images\n",
    "try:\n",
    "    ppt.figure(figsize=(16, 4))\n",
    "    \n",
    "    ppt.subplot(1, 3, 1)\n",
    "    ppt.imshow(np.log(original_spectrum[0,0]), cmap='gray', interpolation='none')\n",
    "    ppt.title('Original')\n",
    "    \n",
    "    ppt.subplot(1, 3, 2)\n",
    "    ppt.imshow(np.log(adversarial_spectrum[0,0]), cmap='gray', interpolation='none')\n",
    "    ppt.title('Adversarial')\n",
    "    \n",
    "    ppt.subplot(1, 3, 3)\n",
    "    ppt.imshow(log_spectrum_difference[0,0], cmap='gray', interpolation='none')\n",
    "    ppt.title('Spectrum difference')\n",
    "except:\n",
    "    print('Could not display image')"
   ]
  }
 ],
 "metadata": {
  "kernelspec": {
   "display_name": "Python 2",
   "language": "python",
   "name": "python2"
  },
  "language_info": {
   "codemirror_mode": {
    "name": "ipython",
    "version": 2
   },
   "file_extension": ".py",
   "mimetype": "text/x-python",
   "name": "python",
   "nbconvert_exporter": "python",
   "pygments_lexer": "ipython2",
   "version": "2.7.11+"
  }
 },
 "nbformat": 4,
 "nbformat_minor": 0
}
