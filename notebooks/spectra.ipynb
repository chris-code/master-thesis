{
 "cells": [
  {
   "cell_type": "markdown",
   "metadata": {},
   "source": [
    "# Spectra of Adversarial Examples"
   ]
  },
  {
   "cell_type": "code",
   "execution_count": null,
   "metadata": {
    "collapsed": false
   },
   "outputs": [],
   "source": [
    "import math\n",
    "import os\n",
    "import numpy as np\n",
    "import matplotlib.pyplot as ppt\n",
    "import caffe\n",
    "import adex\n",
    "import adex.data\n",
    "import adex.googlenet\n",
    "%matplotlib inline\n",
    "caffe.set_mode_cpu()\n",
    "\n",
    "CAFFE_ROOT = '/home/chrisbot/Projects/caffe'\n",
    "DATA_ROOT = '/media/sf_Masterarbeit/data/ILSVRC2012_img_train'\n",
    "AE_ROOT = '/media/sf_Masterarbeit/data/ILSVRC2012_img_train_AE'\n",
    "\n",
    "BATCH_SIZE = 1\n",
    "net = adex.googlenet.load_model(CAFFE_ROOT, BATCH_SIZE)\n",
    "transformer = adex.googlenet.build_transformer(net)"
   ]
  },
  {
   "cell_type": "code",
   "execution_count": null,
   "metadata": {
    "collapsed": false
   },
   "outputs": [],
   "source": [
    "original_spectrum = None\n",
    "original_spectrum_count = 0\n",
    "adversarial_spectrum = None\n",
    "adversarial_spectrum_count = 0\n",
    "\n",
    "for class_name in os.listdir(AE_ROOT):\n",
    "    for orig_file in os.listdir(DATA_ROOT + '/' + class_name):\n",
    "        orig_image = adex.googlenet.load_image(transformer, DATA_ROOT + '/' + class_name + '/' + orig_file)\n",
    "        orig_image_gray = adex.data.grayvalue_image(orig_image)\n",
    "        \n",
    "        this_orig_spectrum = adex.data.get_spectrum(orig_image_gray)\n",
    "        if original_spectrum is not None:\n",
    "            original_spectrum += this_orig_spectrum\n",
    "        else:\n",
    "            original_spectrum = this_orig_spectrum\n",
    "        original_spectrum_count += 1\n",
    "    \n",
    "    for target_class_name in os.listdir(AE_ROOT + '/' + class_name):\n",
    "        try:\n",
    "            ae_image = np.load(AE_ROOT + '/' + class_name + '/' + target_class_name)\n",
    "        except IOError:\n",
    "            pass # skip the .csv file\n",
    "        ae_image_gray = adex.data.grayvalue_image(ae_image)\n",
    "        \n",
    "        this_ae_spectrum = adex.data.get_spectrum(ae_image_gray)\n",
    "        if adversarial_spectrum is not None:\n",
    "            adversarial_spectrum += this_ae_spectrum\n",
    "        else:\n",
    "            adversarial_spectrum = this_ae_spectrum\n",
    "        adversarial_spectrum_count += 1\n",
    "\n",
    "original_spectrum /= original_spectrum_count\n",
    "adversarial_spectrum /= adversarial_spectrum_count\n",
    "\n",
    "difference_of_log_spectra = np.log(original_spectrum) - np.log(adversarial_spectrum)"
   ]
  },
  {
   "cell_type": "code",
   "execution_count": null,
   "metadata": {
    "collapsed": false
   },
   "outputs": [],
   "source": [
    "ppt.figure(figsize=(16, 4))\n",
    "\n",
    "ax = ppt.subplot(1, 3, 1)\n",
    "ppt.imshow(np.log(original_spectrum[0, 0]), cmap='gray', interpolation='none')\n",
    "ppt.title('Original spectrum')\n",
    "\n",
    "ax = ppt.subplot(1, 3, 2)\n",
    "ppt.imshow(np.log(adversarial_spectrum[0, 0]), cmap='gray', interpolation='none')\n",
    "ppt.title('Adversarial spectrum')\n",
    "\n",
    "ax = ppt.subplot(1, 3, 3)\n",
    "ppt.imshow(difference_of_log_spectra[0, 0], cmap='gray', interpolation='none')\n",
    "ppt.title('Difference of log spectra')"
   ]
  },
  {
   "cell_type": "code",
   "execution_count": null,
   "metadata": {
    "collapsed": true
   },
   "outputs": [],
   "source": [
    "def activity_distribution(spectrum, range_bins, angle_bins):\n",
    "    spectrum = spectrum.reshape(spectrum.shape[-2:])\n",
    "\n",
    "    # Record the summed values at every distance and angle to the origin, and the number of summed values\n",
    "    distance_distribution = np.zeros(shape=(2, range_bins))\n",
    "    angle_distribution = np.zeros(shape=(2, angle_bins))\n",
    "    \n",
    "    center = np.asarray(spectrum.shape) / 2.0\n",
    "    max_distance = math.ceil(np.linalg.norm(center))\n",
    "    max_angle = 2 * math.pi\n",
    "    \n",
    "    it = np.nditer(spectrum, flags=['multi_index'])\n",
    "    for value in it:\n",
    "        distance = np.linalg.norm(np.asarray(it.multi_index) - center)\n",
    "        distance_index = (distance / max_distance) * (range_bins - 1)\n",
    "        distance_index = int(round(distance_index))\n",
    "        \n",
    "        angle = math.atan2(center[0] - it.multi_index[0], it.multi_index[1] - center[1])\n",
    "        if angle < 0:\n",
    "            angle += 2 * math.pi\n",
    "        angle_index = (angle / max_angle) * (angle_bins - 1)\n",
    "        angle_index = int(round(angle_index))\n",
    "        \n",
    "        distance_distribution[0, distance_index] += value\n",
    "        distance_distribution[1, distance_index] += 1\n",
    "        angle_distribution[0, angle_index] += value\n",
    "        angle_distribution[1, angle_index] += 1\n",
    "    \n",
    "    distance_distribution = distance_distribution[0] / (distance_distribution[1] + 1)\n",
    "    angle_distribution = angle_distribution[0] / (angle_distribution[1] + 1)\n",
    "    \n",
    "    return distance_distribution, angle_distribution\n",
    "\n",
    "# Plot the distribution of frequencies over distance from the origin on a log scale\n",
    "distance_bins = 256\n",
    "angle_bins = 32\n",
    "original_distance_distribution, original_angle_distribution = activity_distribution(original_spectrum, distance_bins, angle_bins)\n",
    "adversarial_distance_distribution, adversarial_angle_distribution = activity_distribution(adversarial_spectrum, distance_bins, angle_bins)\n",
    "diff_distance_distribution, diff_angle_distribution = activity_distribution(difference_of_log_spectra, distance_bins, angle_bins)"
   ]
  },
  {
   "cell_type": "code",
   "execution_count": null,
   "metadata": {
    "collapsed": false
   },
   "outputs": [],
   "source": [
    "ppt.figure(figsize=(16, 4))\n",
    "\n",
    "ax = ppt.subplot(1, 3, 1)\n",
    "ax.set_xscale('log')\n",
    "ax.set_yscale('log')\n",
    "ppt.plot(original_distance_distribution)\n",
    "ppt.title('Distance distribution (Original)')\n",
    "\n",
    "ax = ppt.subplot(1, 3, 2)\n",
    "ax.set_xscale('log')\n",
    "ax.set_yscale('log')\n",
    "ppt.plot(adversarial_distance_distribution)\n",
    "ppt.title('Distance distribution (Adversarial)')\n",
    "\n",
    "ax = ppt.subplot(1, 3, 3)\n",
    "ax.set_xscale('log')\n",
    "#ax.set_yscale('log')\n",
    "ppt.plot(diff_distance_distribution)\n",
    "ppt.title('Distance distribution (Difference of log spectra)')"
   ]
  },
  {
   "cell_type": "code",
   "execution_count": null,
   "metadata": {
    "collapsed": false
   },
   "outputs": [],
   "source": [
    "ppt.figure(figsize=(16, 4))\n",
    "\n",
    "ax = ppt.subplot(1, 3, 1)\n",
    "#ax.set_xscale('log')\n",
    "ax.set_yscale('log')\n",
    "ppt.plot(original_angle_distribution)\n",
    "ppt.title('Angle distribution (Original)')\n",
    "\n",
    "ax = ppt.subplot(1, 3, 2)\n",
    "#ax.set_xscale('log')\n",
    "ax.set_yscale('log')\n",
    "ppt.plot(adversarial_angle_distribution)\n",
    "ppt.title('Angle distribution (Adversarial)')\n",
    "\n",
    "ax = ppt.subplot(1, 3, 3)\n",
    "#ax.set_xscale('log')\n",
    "ax.set_yscale('log')\n",
    "ppt.plot(diff_angle_distribution)\n",
    "ppt.title('Angle distribution (Difference of log spectra)')"
   ]
  }
 ],
 "metadata": {
  "kernelspec": {
   "display_name": "Python 2",
   "language": "python",
   "name": "python2"
  },
  "language_info": {
   "codemirror_mode": {
    "name": "ipython",
    "version": 2
   },
   "file_extension": ".py",
   "mimetype": "text/x-python",
   "name": "python",
   "nbconvert_exporter": "python",
   "pygments_lexer": "ipython2",
   "version": "2.7.11+"
  }
 },
 "nbformat": 4,
 "nbformat_minor": 0
}
