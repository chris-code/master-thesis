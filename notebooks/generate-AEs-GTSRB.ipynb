{
 "cells": [
  {
   "cell_type": "code",
   "execution_count": 1,
   "metadata": {
    "collapsed": false
   },
   "outputs": [
    {
     "ename": "RuntimeError",
     "evalue": "Could not open file /home/chrisbot/Projects/master-thesis/gtsrb/network_reprod_AE.prototxt",
     "output_type": "error",
     "traceback": [
      "\u001b[0;31m---------------------------------------------------------------------------\u001b[0m",
      "\u001b[0;31mRuntimeError\u001b[0m                              Traceback (most recent call last)",
      "\u001b[0;32m<ipython-input-1-d02ba9149a16>\u001b[0m in \u001b[0;36m<module>\u001b[0;34m()\u001b[0m\n\u001b[1;32m     19\u001b[0m \u001b[0mMAX_ITERATIONS\u001b[0m \u001b[0;34m=\u001b[0m \u001b[0;36m10\u001b[0m\u001b[0;34m\u001b[0m\u001b[0m\n\u001b[1;32m     20\u001b[0m \u001b[0;34m\u001b[0m\u001b[0m\n\u001b[0;32m---> 21\u001b[0;31m \u001b[0mnet\u001b[0m \u001b[0;34m=\u001b[0m \u001b[0madex\u001b[0m\u001b[0;34m.\u001b[0m\u001b[0mgtsrb\u001b[0m\u001b[0;34m.\u001b[0m\u001b[0mload_model\u001b[0m\u001b[0;34m(\u001b[0m\u001b[0mLAYOUT_PATH\u001b[0m\u001b[0;34m,\u001b[0m \u001b[0mWEIGHT_PATH\u001b[0m\u001b[0;34m,\u001b[0m \u001b[0mBATCH_SIZE\u001b[0m\u001b[0;34m)\u001b[0m\u001b[0;34m\u001b[0m\u001b[0m\n\u001b[0m\u001b[1;32m     22\u001b[0m \u001b[0mshape\u001b[0m \u001b[0;34m=\u001b[0m \u001b[0mlist\u001b[0m\u001b[0;34m(\u001b[0m\u001b[0mnet\u001b[0m\u001b[0;34m.\u001b[0m\u001b[0mblobs\u001b[0m\u001b[0;34m[\u001b[0m\u001b[0;34m'data'\u001b[0m\u001b[0;34m]\u001b[0m\u001b[0;34m.\u001b[0m\u001b[0mdata\u001b[0m\u001b[0;34m.\u001b[0m\u001b[0mshape\u001b[0m\u001b[0;34m)\u001b[0m\u001b[0;34m\u001b[0m\u001b[0m\n\u001b[1;32m     23\u001b[0m \u001b[0mshape\u001b[0m\u001b[0;34m[\u001b[0m\u001b[0;36m0\u001b[0m\u001b[0;34m]\u001b[0m \u001b[0;34m=\u001b[0m \u001b[0mBATCH_SIZE\u001b[0m\u001b[0;34m\u001b[0m\u001b[0m\n",
      "\u001b[0;32m/home/chrisbot/Projects/master-thesis/adex/gtsrb.pyc\u001b[0m in \u001b[0;36mload_model\u001b[0;34m(layout_path, weight_path, batch_size)\u001b[0m\n\u001b[1;32m      6\u001b[0m     net = caffe.Net(layout_path,\n\u001b[1;32m      7\u001b[0m                     \u001b[0mweight_path\u001b[0m\u001b[0;34m,\u001b[0m\u001b[0;34m\u001b[0m\u001b[0m\n\u001b[0;32m----> 8\u001b[0;31m                     caffe.TEST)\n\u001b[0m\u001b[1;32m      9\u001b[0m     \u001b[0mshape\u001b[0m \u001b[0;34m=\u001b[0m \u001b[0mlist\u001b[0m\u001b[0;34m(\u001b[0m\u001b[0mnet\u001b[0m\u001b[0;34m.\u001b[0m\u001b[0mblobs\u001b[0m\u001b[0;34m[\u001b[0m\u001b[0;34m'data'\u001b[0m\u001b[0;34m]\u001b[0m\u001b[0;34m.\u001b[0m\u001b[0mdata\u001b[0m\u001b[0;34m.\u001b[0m\u001b[0mshape\u001b[0m\u001b[0;34m)\u001b[0m\u001b[0;34m\u001b[0m\u001b[0m\n\u001b[1;32m     10\u001b[0m     \u001b[0mshape\u001b[0m\u001b[0;34m[\u001b[0m\u001b[0;36m0\u001b[0m\u001b[0;34m]\u001b[0m \u001b[0;34m=\u001b[0m \u001b[0mbatch_size\u001b[0m\u001b[0;34m\u001b[0m\u001b[0m\n",
      "\u001b[0;31mRuntimeError\u001b[0m: Could not open file /home/chrisbot/Projects/master-thesis/gtsrb/network_reprod_AE.prototxt"
     ]
    }
   ],
   "source": [
    "import random\n",
    "import csv\n",
    "import sys\n",
    "import os\n",
    "import numpy as np\n",
    "import caffe\n",
    "import adex.core\n",
    "import adex.gtsrb\n",
    "\n",
    "#CAFFE_ROOT = '/home/chrisbot/Projects/caffe'\n",
    "LAYOUT_PATH = '/home/chrisbot/Projects/master-thesis/gtsrb/network_reprod_deploy.prototxt'\n",
    "WEIGHT_PATH = '/home/chrisbot/Projects/master-thesis/gtsrb/snapshots/reprod_iter_548926.caffemodel'\n",
    "DATA_ROOT = '/media/sf_Masterarbeit/data/GTSRB_TRAIN_PREPROCESSED'\n",
    "OUTPUT_ROOT = '/media/sf_Masterarbeit/data/GTSRB_TRAIN_PREPROCESSED_AE_0.037'\n",
    "BATCH_SIZE = 1\n",
    "\n",
    "AE_GRAD_COEFF = 0.037\n",
    "CONFIDENCE_TARGET = 0.9\n",
    "MAX_ITERATIONS = 500\n",
    "\n",
    "net = adex.gtsrb.load_model(LAYOUT_PATH, WEIGHT_PATH, BATCH_SIZE)\n",
    "shape = list(net.blobs['data'].data.shape)\n",
    "shape[0] = BATCH_SIZE\n",
    "net.blobs['data'].reshape(*shape)\n",
    "net.blobs['prob'].reshape(BATCH_SIZE, )\n",
    "net.reshape()\n",
    "transformer = adex.gtsrb.build_transformer(net)"
   ]
  },
  {
   "cell_type": "code",
   "execution_count": null,
   "metadata": {
    "collapsed": false
   },
   "outputs": [],
   "source": [
    "class_directories = os.listdir(DATA_ROOT) # The list of classes (conincide with their directory names)\n",
    "class_directories = [cs for cs in class_directories if os.path.isdir(DATA_ROOT + '/' + cs)]\n",
    "random.shuffle(class_directories)\n",
    "\n",
    "for class_dir in class_directories:\n",
    "    random_class_representative = random.choice(os.listdir(DATA_ROOT + '/' + class_dir))\n",
    "    \n",
    "    # Prepare output directory\n",
    "    output_dir = OUTPUT_ROOT + '/' + class_dir + '_' + random_class_representative[:-4]\n",
    "    try:\n",
    "        os.mkdir(output_dir)\n",
    "    except OSError:\n",
    "        pass # Directory already exists\n",
    "    \n",
    "    history = []\n",
    "    for target_class_dir in class_directories:\n",
    "        #Generate AEs\n",
    "        infile = DATA_ROOT + '/' + class_dir + '/' + random_class_representative\n",
    "        #confidence, iterations = make_ae_for_paths(infile, outfile, net, labels, target_class_name,\n",
    "        #                                           AE_GRAD_COEFF, CONFIDENCE_TARGET, MAX_ITERATIONS)\n",
    "        \n",
    "        # Generate an AE\n",
    "        image = adex.gtsrb.load_image(transformer, infile)\n",
    "        target_label = np.array([int(target_class_dir)])\n",
    "        adversarial_image, confidence, iterations = adex.core.make_adversarial(net, image, target_label, AE_GRAD_COEFF,\n",
    "                                                                               CONFIDENCE_TARGET, MAX_ITERATIONS)\n",
    "        \n",
    "        # Save AE to disk\n",
    "        outfile = output_dir + '/' + target_class_dir + '.npy'\n",
    "        np.save(outfile, adversarial_image)\n",
    "        \n",
    "        # Add data to history\n",
    "        history.append( [class_dir, random_class_representative, target_class_dir, confidence, iterations] )\n",
    "    \n",
    "    # Write history to file\n",
    "    with open(OUTPUT_ROOT + '/' + class_dir + '_' + 'history.csv', 'wb') as csvfile:\n",
    "        writer = csv.writer(csvfile)\n",
    "        for target_class_history in history:\n",
    "            writer.writerow(target_class_history)\n",
    "    \n",
    "    # A bit of progress feedback\n",
    "    sys.stdout.write('.')\n",
    "    sys.stdout.flush()"
   ]
  }
 ],
 "metadata": {
  "kernelspec": {
   "display_name": "Python 2",
   "language": "python",
   "name": "python2"
  },
  "language_info": {
   "codemirror_mode": {
    "name": "ipython",
    "version": 2
   },
   "file_extension": ".py",
   "mimetype": "text/x-python",
   "name": "python",
   "nbconvert_exporter": "python",
   "pygments_lexer": "ipython2",
   "version": "2.7.12"
  }
 },
 "nbformat": 4,
 "nbformat_minor": 0
}
