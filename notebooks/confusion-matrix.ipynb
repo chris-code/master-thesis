{
 "cells": [
  {
   "cell_type": "code",
   "execution_count": 36,
   "metadata": {
    "collapsed": false
   },
   "outputs": [
    {
     "data": {
      "text/plain": [
       "<matplotlib.image.AxesImage at 0x7f1a4c4dce10>"
      ]
     },
     "execution_count": 36,
     "metadata": {},
     "output_type": "execute_result"
    },
    {
     "data": {
      "image/png": "[encoded data removed]",
      "text/plain": [
       "<matplotlib.figure.Figure at 0x7f1a4c4ec110>"
      ]
     },
     "metadata": {},
     "output_type": "display_data"
    }
   ],
   "source": [
    "import os\n",
    "import glob\n",
    "import csv\n",
    "import numpy as np\n",
    "import matplotlib.pyplot as ppt\n",
    "%matplotlib inline\n",
    "\n",
    "AE_ROOT = '/media/sf_Masterarbeit/data/ILSVRC2012_img_train_AE_50'\n",
    "\n",
    "classes = glob.glob(AE_ROOT + '/*_history.csv')\n",
    "classes = [c.split('/')[-1] for c in classes] # strip path\n",
    "classes = [c.split('_')[0] for c in classes]\n",
    "\n",
    "num_classes = len(classes)\n",
    "confusion_matrix = np.full((num_classes, num_classes), fill_value=-1)\n",
    "\n",
    "# The confusion matrix will contain a row for each origin class, where the column corresponds to the target class\n",
    "for origin_index, origin_class in enumerate(classes):\n",
    "    with open(AE_ROOT + '/' + origin_class + '_history.csv') as csv_file:\n",
    "        csv_reader = csv.reader(csv_file)\n",
    "        for origin_pic, target_class, confidence, iterations in csv_reader:\n",
    "            target_index = classes.index(target_class)\n",
    "            confusion_matrix[origin_index, target_index] = confidence\n",
    "\n",
    "ppt.imshow(confusion_matrix, cmap=ppt.cm.gray, interpolation='none')"
   ]
  },
  {
   "cell_type": "code",
   "execution_count": 50,
   "metadata": {
    "collapsed": false
   },
   "outputs": [
    {
     "name": "stdout",
     "output_type": "stream",
     "text": [
      "0:\tLhasa\n",
      "1:\tpill bottle\n",
      "2:\tCrock Pot\n",
      "3:\twooden spoon\n",
      "4:\tBouvier des Flandres\n",
      "5:\tmonastery\n",
      "6:\thoneycomb\n",
      "7:\tpurse\n",
      "8:\tballpoint\n",
      "9:\tFrench bulldog\n",
      "10:\tred-breasted merganser\n",
      "11:\tleafhopper\n",
      "12:\tgreat grey owl\n",
      "13:\tsulphur butterfly\n",
      "14:\tAmerican chameleon\n",
      "15:\tlorikeet\n",
      "16:\tstandard poodle\n",
      "17:\tfile\n",
      "18:\tSiberian husky\n",
      "19:\tcarbonara\n",
      "20:\tballoon\n",
      "21:\trocking chair\n",
      "22:\tlacewing\n",
      "23:\tcinema\n",
      "24:\tdome\n",
      "25:\tsleeping bag\n",
      "26:\tmedicine chest\n",
      "27:\tjaguar\n",
      "28:\tcarpenter's kit\n",
      "29:\tlynx\n",
      "30:\tstupa\n",
      "31:\trapeseed\n",
      "32:\tacorn\n",
      "33:\tsnail\n",
      "34:\tping-pong ball\n",
      "35:\tcabbage butterfly\n",
      "36:\tchiffonier\n",
      "37:\tmenu\n",
      "38:\tAppenzeller\n",
      "39:\tpaper towel\n",
      "40:\tobelisk\n",
      "41:\tassault rifle\n",
      "42:\tIrish wolfhound\n",
      "43:\tconch\n",
      "44:\tbell cote\n",
      "45:\twater buffalo\n",
      "46:\tgroenendael\n",
      "47:\tabaya\n",
      "48:\tacoustic guitar\n",
      "49:\tAfghan hound\n"
     ]
    }
   ],
   "source": [
    "import adex.googlenet\n",
    "\n",
    "CAFFE_ROOT = '/home/chrisbot/Projects/caffe'\n",
    "\n",
    "labels = adex.googlenet.load_labels(CAFFE_ROOT)\n",
    "for index, c in enumerate(classes):\n",
    "    for l in labels:\n",
    "        if c == l[0].strip():\n",
    "            print('{0}:\\t{1}'.format(index, l[1]))\n",
    "            break\n",
    "    else:\n",
    "        print('{0}:\\t##### No name found for: {1} #####'.format(index, c))"
   ]
  }
 ],
 "metadata": {
  "kernelspec": {
   "display_name": "Python 2",
   "language": "python",
   "name": "python2"
  },
  "language_info": {
   "codemirror_mode": {
    "name": "ipython",
    "version": 2
   },
   "file_extension": ".py",
   "mimetype": "text/x-python",
   "name": "python",
   "nbconvert_exporter": "python",
   "pygments_lexer": "ipython2",
   "version": "2.7.11+"
  }
 },
 "nbformat": 4,
 "nbformat_minor": 0
}
