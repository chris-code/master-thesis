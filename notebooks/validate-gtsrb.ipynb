{
 "cells": [
  {
   "cell_type": "code",
   "execution_count": 1,
   "metadata": {
    "collapsed": false
   },
   "outputs": [
    {
     "name": "stdout",
     "output_type": "stream",
     "text": [
      "In shape: (10, 3, 48, 48)\n",
      "Out shape: (10, 43)\n"
     ]
    }
   ],
   "source": [
    "import numpy as np\n",
    "import caffe\n",
    "import adex.core\n",
    "\n",
    "CAFFE_ROOT = '/home/chrisbot/Projects/caffe'\n",
    "MODEL_PATH = '/home/chrisbot/Projects/master-thesis/gtsrb/network_reprod_deploy.prototxt'\n",
    "WEIGHT_PATH = '/media/sf_Masterarbeit/master-thesis/gtsrb/snapshots/reprod_iter_548926.caffemodel'\n",
    "DATA_ROOT_PATH = '/media/sf_Masterarbeit/data/GTSRB_TEST_PREPROCESSED'\n",
    "\n",
    "BATCH_SIZE = 1\n",
    "\n",
    "# Build network and reshape it to avoid batches of size 16\n",
    "net = caffe.Net(MODEL_PATH, WEIGHT_PATH, caffe.TEST)\n",
    "\n",
    "print('In shape: {0}'.format(net.blobs['data'].data.shape))\n",
    "#print('Label shape: {0}'.format(net.blobs['label'].data.shape))\n",
    "print('Out shape: {0}'.format(net.blobs['prob'].data.shape))\n",
    "\n",
    "# Build transformer\n",
    "transformer = caffe.io.Transformer( {'data': net.blobs['data'].data.shape} )\n",
    "transformer.set_transpose('data', (2,0,1))\n",
    "#transformer.set_raw_scale('data', 255) # the reference model operates on images in [0,255] range instead of [0,1]\n",
    "#transformer.set_channel_swap('data', (2,1,0)) # the reference model has channels in BGR order instead of RGB"
   ]
  },
  {
   "cell_type": "code",
   "execution_count": 2,
   "metadata": {
    "collapsed": false
   },
   "outputs": [
    {
     "name": "stdout",
     "output_type": "stream",
     "text": [
      "Accuracy: 0.81\n"
     ]
    }
   ],
   "source": [
    "DATA_LIMIT = None\n",
    "data_count = 0\n",
    "success_count = 0\n",
    "\n",
    "with open(DATA_ROOT_PATH + '/test_images_labeled.txt') as test_list:\n",
    "    for line in test_list:\n",
    "        filename = ''.join(line.strip().split(' ')[:-1])\n",
    "        label = int(line.strip().split(' ')[-1])\n",
    "        \n",
    "        image = caffe.io.load_image(filename)\n",
    "        image = transformer.preprocess('data', image)\n",
    "        image = np.expand_dims(image, 0)\n",
    "        \n",
    "        preds, probs = adex.core.predict(net, image)\n",
    "        \n",
    "        if(preds[0][0] == label):\n",
    "            success_count += 1\n",
    "        \n",
    "        data_count += 1\n",
    "        if DATA_LIMIT is not None and data_count == DATA_LIMIT:\n",
    "            break\n",
    "\n",
    "print('Accuracy: {0}'.format(float(success_count) / data_count))"
   ]
  }
 ],
 "metadata": {
  "kernelspec": {
   "display_name": "Python 2",
   "language": "python",
   "name": "python2"
  },
  "language_info": {
   "codemirror_mode": {
    "name": "ipython",
    "version": 2
   },
   "file_extension": ".py",
   "mimetype": "text/x-python",
   "name": "python",
   "nbconvert_exporter": "python",
   "pygments_lexer": "ipython2",
   "version": "2.7.12"
  }
 },
 "nbformat": 4,
 "nbformat_minor": 0
}
