{
 "cells": [
  {
   "cell_type": "code",
   "execution_count": 1,
   "metadata": {
    "collapsed": false
   },
   "outputs": [],
   "source": [
    "import matplotlib\n",
    "matplotlib.use('Agg') # Force matplotlib to not use any Xwindows backend.\n",
    "\n",
    "import math\n",
    "import random\n",
    "import sys\n",
    "import glob\n",
    "import csv\n",
    "import os\n",
    "import numpy as np\n",
    "import matplotlib.pyplot as ppt\n",
    "%matplotlib inline\n",
    "import caffe\n",
    "import adex.core\n",
    "import adex.data\n",
    "import adex.googlenet\n",
    "\n",
    "AE_BATCH_NAME = 'imagenet-ae-50'\n",
    "MIN_AE_CONFIDENCE = 0.5\n",
    "MAX_ORIGINAL_IMAGES = 1000 # May be None\n",
    "\n",
    "CAFFE_ROOT = '/home/chrisbot/Projects/caffe'\n",
    "PROJECT_ROOT = '/media/sf_Masterarbeit'\n",
    "DATA_ROOT = PROJECT_ROOT + '/data/ILSVRC2012_img_train'\n",
    "AE_ROOT = PROJECT_ROOT + '/data/ILSVRC2012_img_train_AE_50'\n",
    "SAVE_PATH_PREFIX = PROJECT_ROOT + '/master-thesis/report/images/spectra/{0}-{1}'.format(AE_BATCH_NAME, MIN_AE_CONFIDENCE)\n",
    "ORIGINAL_SPECTRUM_PATH = PROJECT_ROOT + '/master-thesis/report/images/spectra/imagenet-spectrum.npy'\n",
    "\n",
    "BATCH_SIZE = 1\n",
    "net = adex.googlenet.load_model(CAFFE_ROOT, BATCH_SIZE)\n",
    "transformer = adex.googlenet.build_transformer(net)"
   ]
  },
  {
   "cell_type": "code",
   "execution_count": 2,
   "metadata": {
    "collapsed": false
   },
   "outputs": [
    {
     "name": "stdout",
     "output_type": "stream",
     "text": [
      "Working with 287 AEs\n"
     ]
    },
    {
     "ename": "KeyboardInterrupt",
     "evalue": "",
     "output_type": "error",
     "traceback": [
      "\u001b[0;31m---------------------------------------------------------------------------\u001b[0m",
      "\u001b[0;31mKeyboardInterrupt\u001b[0m                         Traceback (most recent call last)",
      "\u001b[0;32m<ipython-input-2-39d38f6afb00>\u001b[0m in \u001b[0;36m<module>\u001b[0;34m()\u001b[0m\n\u001b[1;32m     25\u001b[0m     \u001b[0;32mreturn\u001b[0m\u001b[0;34m(\u001b[0m\u001b[0moriginal_list\u001b[0m\u001b[0;34m)\u001b[0m\u001b[0;34m\u001b[0m\u001b[0m\n\u001b[1;32m     26\u001b[0m \u001b[0;34m\u001b[0m\u001b[0m\n\u001b[0;32m---> 27\u001b[0;31m \u001b[0moriginal_list\u001b[0m \u001b[0;34m=\u001b[0m \u001b[0mget_original_list\u001b[0m\u001b[0;34m(\u001b[0m\u001b[0mDATA_ROOT\u001b[0m\u001b[0;34m,\u001b[0m \u001b[0mMAX_ORIGINAL_IMAGES\u001b[0m\u001b[0;34m)\u001b[0m\u001b[0;34m\u001b[0m\u001b[0m\n\u001b[0m\u001b[1;32m     28\u001b[0m \u001b[0msys\u001b[0m\u001b[0;34m.\u001b[0m\u001b[0mstdout\u001b[0m\u001b[0;34m.\u001b[0m\u001b[0mwrite\u001b[0m\u001b[0;34m(\u001b[0m\u001b[0;34m'Working with {0} original images\\n'\u001b[0m\u001b[0;34m.\u001b[0m\u001b[0mformat\u001b[0m\u001b[0;34m(\u001b[0m\u001b[0mlen\u001b[0m\u001b[0;34m(\u001b[0m\u001b[0moriginal_list\u001b[0m\u001b[0;34m)\u001b[0m\u001b[0;34m)\u001b[0m\u001b[0;34m)\u001b[0m\u001b[0;34m\u001b[0m\u001b[0m\n\u001b[1;32m     29\u001b[0m \u001b[0msys\u001b[0m\u001b[0;34m.\u001b[0m\u001b[0mstdout\u001b[0m\u001b[0;34m.\u001b[0m\u001b[0mflush\u001b[0m\u001b[0;34m(\u001b[0m\u001b[0;34m)\u001b[0m\u001b[0;34m\u001b[0m\u001b[0m\n",
      "\u001b[0;32m<ipython-input-2-39d38f6afb00>\u001b[0m in \u001b[0;36mget_original_list\u001b[0;34m(data_root, max_original_images)\u001b[0m\n\u001b[1;32m     18\u001b[0m     \u001b[0moriginal_list\u001b[0m \u001b[0;34m=\u001b[0m \u001b[0;34m[\u001b[0m\u001b[0;34m]\u001b[0m\u001b[0;34m\u001b[0m\u001b[0m\n\u001b[1;32m     19\u001b[0m     \u001b[0;32mfor\u001b[0m \u001b[0mcls_path\u001b[0m \u001b[0;32min\u001b[0m \u001b[0mglob\u001b[0m\u001b[0;34m.\u001b[0m\u001b[0mglob\u001b[0m\u001b[0;34m(\u001b[0m\u001b[0mdata_root\u001b[0m \u001b[0;34m+\u001b[0m \u001b[0;34m'/*'\u001b[0m\u001b[0;34m)\u001b[0m\u001b[0;34m:\u001b[0m\u001b[0;34m\u001b[0m\u001b[0m\n\u001b[0;32m---> 20\u001b[0;31m         \u001b[0;32mfor\u001b[0m \u001b[0mcls_member\u001b[0m \u001b[0;32min\u001b[0m \u001b[0mglob\u001b[0m\u001b[0;34m.\u001b[0m\u001b[0mglob\u001b[0m\u001b[0;34m(\u001b[0m\u001b[0mcls_path\u001b[0m \u001b[0;34m+\u001b[0m \u001b[0;34m'/*'\u001b[0m\u001b[0;34m)\u001b[0m\u001b[0;34m:\u001b[0m\u001b[0;34m\u001b[0m\u001b[0m\n\u001b[0m\u001b[1;32m     21\u001b[0m             \u001b[0moriginal_list\u001b[0m\u001b[0;34m.\u001b[0m\u001b[0mappend\u001b[0m\u001b[0;34m(\u001b[0m\u001b[0mcls_member\u001b[0m\u001b[0;34m)\u001b[0m\u001b[0;34m\u001b[0m\u001b[0m\n\u001b[1;32m     22\u001b[0m     \u001b[0mrandom\u001b[0m\u001b[0;34m.\u001b[0m\u001b[0mshuffle\u001b[0m\u001b[0;34m(\u001b[0m\u001b[0moriginal_list\u001b[0m\u001b[0;34m)\u001b[0m\u001b[0;34m\u001b[0m\u001b[0m\n",
      "\u001b[0;32m/usr/lib/python2.7/glob.pyc\u001b[0m in \u001b[0;36mglob\u001b[0;34m(pathname)\u001b[0m\n\u001b[1;32m     25\u001b[0m \u001b[0;34m\u001b[0m\u001b[0m\n\u001b[1;32m     26\u001b[0m     \"\"\"\n\u001b[0;32m---> 27\u001b[0;31m     \u001b[0;32mreturn\u001b[0m \u001b[0mlist\u001b[0m\u001b[0;34m(\u001b[0m\u001b[0miglob\u001b[0m\u001b[0;34m(\u001b[0m\u001b[0mpathname\u001b[0m\u001b[0;34m)\u001b[0m\u001b[0;34m)\u001b[0m\u001b[0;34m\u001b[0m\u001b[0m\n\u001b[0m\u001b[1;32m     28\u001b[0m \u001b[0;34m\u001b[0m\u001b[0m\n\u001b[1;32m     29\u001b[0m \u001b[0;32mdef\u001b[0m \u001b[0miglob\u001b[0m\u001b[0;34m(\u001b[0m\u001b[0mpathname\u001b[0m\u001b[0;34m)\u001b[0m\u001b[0;34m:\u001b[0m\u001b[0;34m\u001b[0m\u001b[0m\n",
      "\u001b[0;32m/usr/lib/python2.7/glob.pyc\u001b[0m in \u001b[0;36miglob\u001b[0;34m(pathname)\u001b[0m\n\u001b[1;32m     62\u001b[0m         \u001b[0mglob_in_dir\u001b[0m \u001b[0;34m=\u001b[0m \u001b[0mglob0\u001b[0m\u001b[0;34m\u001b[0m\u001b[0m\n\u001b[1;32m     63\u001b[0m     \u001b[0;32mfor\u001b[0m \u001b[0mdirname\u001b[0m \u001b[0;32min\u001b[0m \u001b[0mdirs\u001b[0m\u001b[0;34m:\u001b[0m\u001b[0;34m\u001b[0m\u001b[0m\n\u001b[0;32m---> 64\u001b[0;31m         \u001b[0;32mfor\u001b[0m \u001b[0mname\u001b[0m \u001b[0;32min\u001b[0m \u001b[0mglob_in_dir\u001b[0m\u001b[0;34m(\u001b[0m\u001b[0mdirname\u001b[0m\u001b[0;34m,\u001b[0m \u001b[0mbasename\u001b[0m\u001b[0;34m)\u001b[0m\u001b[0;34m:\u001b[0m\u001b[0;34m\u001b[0m\u001b[0m\n\u001b[0m\u001b[1;32m     65\u001b[0m             \u001b[0;32myield\u001b[0m \u001b[0mos\u001b[0m\u001b[0;34m.\u001b[0m\u001b[0mpath\u001b[0m\u001b[0;34m.\u001b[0m\u001b[0mjoin\u001b[0m\u001b[0;34m(\u001b[0m\u001b[0mdirname\u001b[0m\u001b[0;34m,\u001b[0m \u001b[0mname\u001b[0m\u001b[0;34m)\u001b[0m\u001b[0;34m\u001b[0m\u001b[0m\n\u001b[1;32m     66\u001b[0m \u001b[0;34m\u001b[0m\u001b[0m\n",
      "\u001b[0;32m/usr/lib/python2.7/glob.pyc\u001b[0m in \u001b[0;36mglob1\u001b[0;34m(dirname, pattern)\u001b[0m\n\u001b[1;32m     76\u001b[0m                                    sys.getdefaultencoding())\n\u001b[1;32m     77\u001b[0m     \u001b[0;32mtry\u001b[0m\u001b[0;34m:\u001b[0m\u001b[0;34m\u001b[0m\u001b[0m\n\u001b[0;32m---> 78\u001b[0;31m         \u001b[0mnames\u001b[0m \u001b[0;34m=\u001b[0m \u001b[0mos\u001b[0m\u001b[0;34m.\u001b[0m\u001b[0mlistdir\u001b[0m\u001b[0;34m(\u001b[0m\u001b[0mdirname\u001b[0m\u001b[0;34m)\u001b[0m\u001b[0;34m\u001b[0m\u001b[0m\n\u001b[0m\u001b[1;32m     79\u001b[0m     \u001b[0;32mexcept\u001b[0m \u001b[0mos\u001b[0m\u001b[0;34m.\u001b[0m\u001b[0merror\u001b[0m\u001b[0;34m:\u001b[0m\u001b[0;34m\u001b[0m\u001b[0m\n\u001b[1;32m     80\u001b[0m         \u001b[0;32mreturn\u001b[0m \u001b[0;34m[\u001b[0m\u001b[0;34m]\u001b[0m\u001b[0;34m\u001b[0m\u001b[0m\n",
      "\u001b[0;31mKeyboardInterrupt\u001b[0m: "
     ]
    }
   ],
   "source": [
    "def get_ae_list(ae_root, min_ae_confidence):\n",
    "    ae_list = []\n",
    "    for csv_path in glob.glob(ae_root + '/*.csv'):\n",
    "        with open(csv_path) as csv_file:\n",
    "            csv_reader = csv.reader(csv_file)\n",
    "            for row in csv_reader:\n",
    "                row[2], row[3] = float(row[2]), int(row[3])\n",
    "                ae_path = ae_root + '/' + row[0].split('.')[0] + '/' + row[1] + '.npy'\n",
    "                if row[2] >= min_ae_confidence:\n",
    "                    ae_list.append(ae_path)\n",
    "    return ae_list\n",
    "\n",
    "ae_list = get_ae_list(AE_ROOT, MIN_AE_CONFIDENCE)\n",
    "sys.stdout.write('Working with {0} AEs\\n'.format(len(ae_list)))\n",
    "sys.stdout.flush()\n",
    "\n",
    "def get_original_list(data_root, max_original_images):\n",
    "    original_list = []\n",
    "    for cls_path in glob.glob(data_root + '/*'):\n",
    "        for cls_member in glob.glob(cls_path + '/*'):\n",
    "            original_list.append(cls_member)\n",
    "    random.shuffle(original_list)\n",
    "    if max_original_images is not None:\n",
    "        original_list = original_list[:max_original_images]\n",
    "    return(original_list)\n",
    "    \n",
    "original_list = get_original_list(DATA_ROOT, MAX_ORIGINAL_IMAGES)\n",
    "sys.stdout.write('Working with {0} original images\\n'.format(len(original_list)))\n",
    "sys.stdout.flush()"
   ]
  },
  {
   "cell_type": "code",
   "execution_count": 3,
   "metadata": {
    "collapsed": false
   },
   "outputs": [
    {
     "name": "stdout",
     "output_type": "stream",
     "text": [
      "Computing original spectrum"
     ]
    },
    {
     "ename": "NameError",
     "evalue": "name 'original_list' is not defined",
     "output_type": "error",
     "traceback": [
      "\u001b[0;31m---------------------------------------------------------------------------\u001b[0m",
      "\u001b[0;31mNameError\u001b[0m                                 Traceback (most recent call last)",
      "\u001b[0;32m<ipython-input-3-03345d935276>\u001b[0m in \u001b[0;36m<module>\u001b[0;34m()\u001b[0m\n\u001b[1;32m     39\u001b[0m \u001b[0;32melse\u001b[0m\u001b[0;34m:\u001b[0m\u001b[0;34m\u001b[0m\u001b[0m\n\u001b[1;32m     40\u001b[0m     \u001b[0msys\u001b[0m\u001b[0;34m.\u001b[0m\u001b[0mstdout\u001b[0m\u001b[0;34m.\u001b[0m\u001b[0mwrite\u001b[0m\u001b[0;34m(\u001b[0m\u001b[0;34m'Computing original spectrum'\u001b[0m\u001b[0;34m)\u001b[0m\u001b[0;34m\u001b[0m\u001b[0m\n\u001b[0;32m---> 41\u001b[0;31m     \u001b[0moriginal_spectrum\u001b[0m \u001b[0;34m=\u001b[0m \u001b[0mcompute_spectrum\u001b[0m\u001b[0;34m(\u001b[0m\u001b[0moriginal_list\u001b[0m\u001b[0;34m,\u001b[0m \u001b[0moriginal_loader\u001b[0m\u001b[0;34m)\u001b[0m\u001b[0;34m\u001b[0m\u001b[0m\n\u001b[0m\u001b[1;32m     42\u001b[0m     \u001b[0;32mif\u001b[0m \u001b[0mMAX_ORIGINAL_IMAGES\u001b[0m \u001b[0;32mis\u001b[0m \u001b[0mNone\u001b[0m\u001b[0;34m:\u001b[0m\u001b[0;34m\u001b[0m\u001b[0m\n\u001b[1;32m     43\u001b[0m         \u001b[0mnp\u001b[0m\u001b[0;34m.\u001b[0m\u001b[0msave\u001b[0m\u001b[0;34m(\u001b[0m\u001b[0mORIGINAL_SPECTRUM_PATH\u001b[0m\u001b[0;34m,\u001b[0m \u001b[0moriginal_spectrum\u001b[0m\u001b[0;34m)\u001b[0m\u001b[0;34m\u001b[0m\u001b[0m\n",
      "\u001b[0;31mNameError\u001b[0m: name 'original_list' is not defined"
     ]
    }
   ],
   "source": [
    "def original_loader(path):\n",
    "    img = adex.googlenet.load_image(transformer, path)\n",
    "    img = adex.data.grayvalue_image(img)\n",
    "    img = img[...,:-1,:-1] # FIXME remove this\n",
    "    img /= math.sqrt(np.sum(img**2))\n",
    "    return img\n",
    "\n",
    "def ae_loader(path):\n",
    "    img = np.load(path)\n",
    "    img = adex.data.grayvalue_image(img)\n",
    "    img = img[...,:-1,:-1] # FIXME remove this\n",
    "    img /= math.sqrt(np.sum(img**2))\n",
    "    return img\n",
    "\n",
    "def compute_spectrum(image_list, image_loader):\n",
    "    spectrum = None\n",
    "    \n",
    "    for idx, path in enumerate(image_list):\n",
    "        img = image_loader(path)\n",
    "\n",
    "        if spectrum is None:\n",
    "            spectrum = adex.data.get_spectrum(img)\n",
    "        else:\n",
    "            spectrum += adex.data.get_spectrum(img)\n",
    "        \n",
    "        # A bit of progress feedback every 1000 images\n",
    "        if idx % 1000 == 0:\n",
    "            sys.stdout.write('.')\n",
    "            sys.stdout.flush()\n",
    "    sys.stdout.write('\\n')\n",
    "    sys.stdout.flush()\n",
    "    \n",
    "    spectrum /= len(image_list)\n",
    "    return spectrum\n",
    "\n",
    "if os.path.isfile(ORIGINAL_SPECTRUM_PATH):\n",
    "    sys.stdout.write('Loading original spectrum from {0}\\n'.format(ORIGINAL_SPECTRUM_PATH))\n",
    "    original_spectrum = np.load(ORIGINAL_SPECTRUM_PATH)\n",
    "else:\n",
    "    sys.stdout.write('Computing original spectrum')\n",
    "    original_spectrum = compute_spectrum(original_list, original_loader)\n",
    "    if MAX_ORIGINAL_IMAGES is None:\n",
    "        np.save(ORIGINAL_SPECTRUM_PATH, original_spectrum)\n",
    "        sys.stdout.write('Saving original spectrum to {0}\\n'.format(ORIGINAL_SPECTRUM_PATH))\n",
    "sys.stdout.flush()\n",
    "\n",
    "sys.stdout.write('Computing AE spectrum')\n",
    "ae_spectrum = compute_spectrum(ae_list, ae_loader)\n",
    "sys.stdout.write('\\ndone.')\n",
    "sys.stdout.flush()\n",
    "\n",
    "log_spectra_difference = np.log(original_spectrum) - np.log(ae_spectrum)"
   ]
  },
  {
   "cell_type": "code",
   "execution_count": null,
   "metadata": {
    "collapsed": false
   },
   "outputs": [],
   "source": [
    "fig = ppt.figure(figsize=(16, 4))\n",
    "\n",
    "ax = ppt.subplot(1, 3, 1)\n",
    "ppt.imshow(np.log(original_spectrum[0, 0]), cmap='gray', interpolation='none')\n",
    "ppt.title('Original spectrum')\n",
    "\n",
    "ax = ppt.subplot(1, 3, 2)\n",
    "ppt.imshow(np.log(ae_spectrum[0, 0]), cmap='gray', interpolation='none')\n",
    "ppt.title('Adversarial spectrum')\n",
    "\n",
    "ax = ppt.subplot(1, 3, 3)\n",
    "ppt.imshow(log_spectra_difference[0, 0], cmap='gray', interpolation='none')\n",
    "ppt.title('Difference of log spectra')\n",
    "\n",
    "fig.savefig(SAVE_PATH_PREFIX + 'spectra.png', bbox_inches='tight')"
   ]
  },
  {
   "cell_type": "code",
   "execution_count": null,
   "metadata": {
    "collapsed": false
   },
   "outputs": [],
   "source": [
    "def activity_distribution(spectrum, range_bins, angle_bins):\n",
    "    spectrum = spectrum.reshape(spectrum.shape[-2:])\n",
    "    if spectrum.shape[0] % 2 == 0: # If side length is even\n",
    "        center = np.asarray(spectrum.shape) / 2 - np.asarray([1,1])\n",
    "        spectrum = spectrum[1:,1:] # cut off asymmetric parts, shape is now uneven\n",
    "    else: # Side length is odd\n",
    "        center = np.asarray(spectrum.shape) / 2\n",
    "\n",
    "    # Record the summed values at every distance and angle to the origin, and the number of summed values\n",
    "    distance_distribution = np.zeros(shape=(2, range_bins))\n",
    "    angle_distribution = np.zeros(shape=(2, angle_bins))\n",
    "    \n",
    "    # Maxima, the bins scale linearly between 0 and these values\n",
    "    max_distance = math.ceil(np.linalg.norm(center))\n",
    "    max_angle = 2 * math.pi\n",
    "    \n",
    "    for index, value in np.ndenumerate(spectrum):\n",
    "        # Compute distance to origin and the corresponding bin index\n",
    "        distance = np.linalg.norm(np.asarray(index) - center)\n",
    "        distance_index = (distance / max_distance) * range_bins\n",
    "        distance_index = int(math.floor(distance_index))\n",
    "        distance_distribution[:, distance_index] += (value, 1) # Record data in appropriate bin\n",
    "        \n",
    "        # Compute angle and the corresponding bin index\n",
    "        angle = math.atan2(center[0] - index[0], index[1] - center[1])\n",
    "        if angle < 0: # atan2 gives values from -pi to pi. Shift them to 0 to 2pi\n",
    "            angle += 2 * math.pi\n",
    "        angle_index = (angle / max_angle) * angle_bins # from 0 to angle_bins\n",
    "        angle_index = int(math.floor(angle_index))\n",
    "        \n",
    "        if not (np.asarray(index) == center).all(): #ignore origin since it has no well-defined angle\n",
    "            angle_distribution[:, angle_index] += (value, 1) # Record data in appropriate bin\n",
    "    \n",
    "    # Normalize with the number of summed values. Use 0 if there was no point at that distance.\n",
    "    distance_distribution = np.where(distance_distribution[1] == 0, 0, distance_distribution[0] / distance_distribution[1])\n",
    "    angle_distribution = angle_distribution[0] / (angle_distribution[1])\n",
    "    \n",
    "    return distance_distribution, angle_distribution\n",
    "\n",
    "distance_bins = int(round(np.linalg.norm(original_spectrum.shape) / 2))\n",
    "angle_bins = 8\n",
    "print('Using {0} distance bins and {1} angle bins'.format(distance_bins, angle_bins))\n",
    "\n",
    "original_distance_distribution, original_angle_distribution = activity_distribution(original_spectrum, distance_bins, angle_bins)\n",
    "ae_distance_distribution, ae_angle_distribution = activity_distribution(ae_spectrum, distance_bins, angle_bins)\n",
    "diff_distance_distribution, diff_angle_distribution = activity_distribution(log_spectra_difference, distance_bins, angle_bins)"
   ]
  },
  {
   "cell_type": "code",
   "execution_count": null,
   "metadata": {
    "collapsed": false
   },
   "outputs": [],
   "source": [
    "fig = ppt.figure(figsize=(16, 4))\n",
    "\n",
    "ax = ppt.subplot(1, 3, 1)\n",
    "ax.set_xscale('log')\n",
    "ax.set_yscale('log')\n",
    "ppt.plot(original_distance_distribution, color='#115EA6')\n",
    "ppt.title('Distance distribution (Original)')\n",
    "\n",
    "ax = ppt.subplot(1, 3, 2)\n",
    "ax.set_xscale('log')\n",
    "ax.set_yscale('log')\n",
    "ppt.plot(ae_distance_distribution, color='#115EA6')\n",
    "ppt.title('Distance distribution (Adversarial)')\n",
    "\n",
    "ax = ppt.subplot(1, 3, 3)\n",
    "ax.set_xscale('log')\n",
    "#ax.set_yscale('log')\n",
    "ppt.plot(diff_distance_distribution, color='#115EA6')\n",
    "ppt.title('Distance distribution (Difference of log spectra)')\n",
    "\n",
    "fig.savefig(SAVE_PATH_PREFIX + '-spectra-distance-{0}-bins.png'.format(distance_bins), bbox_inches='tight')\n",
    "\n",
    "\n",
    "\n",
    "fig = ppt.figure(figsize=(16, 4))\n",
    "\n",
    "ax = ppt.subplot(1, 3, 1)\n",
    "#ax.set_xscale('log')\n",
    "ax.set_yscale('log')\n",
    "#ppt.plot(original_angle_distribution)\n",
    "ppt.bar(np.arange(angle_bins), original_angle_distribution, color='#115EA6')\n",
    "ppt.title('Angle distribution (Original)')\n",
    "\n",
    "ax = ppt.subplot(1, 3, 2)\n",
    "#ax.set_xscale('log')\n",
    "ax.set_yscale('log')\n",
    "#ppt.plot(adversarial_angle_distribution)\n",
    "ppt.bar(np.arange(angle_bins), ae_angle_distribution, color='#115EA6')\n",
    "ppt.title('Angle distribution (Adversarial)')\n",
    "\n",
    "ax = ppt.subplot(1, 3, 3)\n",
    "#ax.set_xscale('log')\n",
    "#ax.set_yscale('log')\n",
    "#ppt.plot(diff_angle_distribution)\n",
    "ppt.bar(np.arange(angle_bins), diff_angle_distribution, color='#115EA6')\n",
    "ppt.title('Angle distribution (Difference of log spectra)')\n",
    "\n",
    "fig.savefig(SAVE_PATH_PREFIX + '-spectra-angle-{0}-bins.png'.format(angle_bins), bbox_inches='tight')"
   ]
  }
 ],
 "metadata": {
  "kernelspec": {
   "display_name": "Python 2",
   "language": "python",
   "name": "python2"
  },
  "language_info": {
   "codemirror_mode": {
    "name": "ipython",
    "version": 2
   },
   "file_extension": ".py",
   "mimetype": "text/x-python",
   "name": "python",
   "nbconvert_exporter": "python",
   "pygments_lexer": "ipython2",
   "version": "2.7.12"
  }
 },
 "nbformat": 4,
 "nbformat_minor": 1
}
