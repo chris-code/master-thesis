{
 "cells": [
  {
   "cell_type": "code",
   "execution_count": 1,
   "metadata": {
    "collapsed": true
   },
   "outputs": [],
   "source": [
    "import glob\n",
    "import csv\n",
    "import os\n",
    "import shutil\n",
    "\n",
    "OLD_ROOT = '/media/sf_Masterarbeit/data/GTSRB_TRAIN_PREPROCESSED_AE_0.1'\n",
    "NEW_ROOT = '/media/sf_Masterarbeit/data/AE/GTSRB_TRAIN_PREPROCESSED_AE_0.1'\n",
    "\n",
    "if not os.path.exists(NEW_ROOT):\n",
    "    os.makedirs(NEW_ROOT)"
   ]
  },
  {
   "cell_type": "code",
   "execution_count": 2,
   "metadata": {
    "collapsed": false
   },
   "outputs": [],
   "source": [
    "fieldnames = ['SourceClass', 'SourcePath', 'TargetClass', 'TargetPath', 'Confidence', 'Iterations']\n",
    "\n",
    "for old_csv_path in glob.glob(OLD_ROOT + '/*.csv'):\n",
    "    csv_data = []\n",
    "    csv_filename = str(int(old_csv_path.split('/')[-1].split('_')[0])) + '.csv'\n",
    "    \n",
    "    with open(old_csv_path) as old_file:\n",
    "        old_reader = csv.reader(old_file)\n",
    "        \n",
    "        for row in old_reader:\n",
    "            source_class = int(row[0])\n",
    "            source_path = row[0] + '/' + row[1]\n",
    "            target_class = int(row[2])\n",
    "            target_path = source_path[:source_path.rfind('.')] + '_' + str(target_class) + '.npy'\n",
    "            confidence = float(row[3])\n",
    "            iterations = int(row[4])\n",
    "            new_row = [source_class, source_path, target_class, target_path, confidence, iterations]\n",
    "            csv_data.append({x: y for x, y in zip(fieldnames, new_row)})\n",
    "    \n",
    "    with open(NEW_ROOT + '/' + csv_filename, 'w') as new_file:\n",
    "        new_writer = csv.DictWriter(new_file, fieldnames=fieldnames)\n",
    "        new_writer.writeheader()\n",
    "        for row in csv_data:\n",
    "            new_writer.writerow(row)"
   ]
  },
  {
   "cell_type": "code",
   "execution_count": 3,
   "metadata": {
    "collapsed": false
   },
   "outputs": [],
   "source": [
    "for old_csv_path in glob.glob(OLD_ROOT + '/*.csv'):\n",
    "    with open(old_csv_path) as old_file:\n",
    "        old_reader = csv.reader(old_file)\n",
    "        \n",
    "        for row in old_reader:\n",
    "            infile = row[0] + '_' + row[1][:row[1].rfind('.')] + '/' + row[2] + '.npy'\n",
    "            infile = OLD_ROOT + '/' + infile\n",
    "            \n",
    "            source_path = row[0] + '/' + row[1]\n",
    "            target_class = int(row[2])\n",
    "            outfile = source_path[:source_path.rfind('.')] + '_' + str(target_class) + '.npy'\n",
    "            outfile = NEW_ROOT + '/' + outfile\n",
    "            \n",
    "            try:\n",
    "                os.makedirs(outfile[:outfile.rfind('/')])\n",
    "            except OSError:\n",
    "                pass\n",
    "            shutil.copy(infile, outfile)"
   ]
  }
 ],
 "metadata": {
  "kernelspec": {
   "display_name": "Python 2",
   "language": "python",
   "name": "python2"
  },
  "language_info": {
   "codemirror_mode": {
    "name": "ipython",
    "version": 2
   },
   "file_extension": ".py",
   "mimetype": "text/x-python",
   "name": "python",
   "nbconvert_exporter": "python",
   "pygments_lexer": "ipython2",
   "version": "2.7.12"
  }
 },
 "nbformat": 4,
 "nbformat_minor": 1
}
